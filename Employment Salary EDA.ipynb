{
 "cells": [
  {
   "cell_type": "code",
   "execution_count": 39,
   "id": "e003083a",
   "metadata": {
    "scrolled": true
   },
   "outputs": [],
   "source": [
    "import numpy as np\n",
    "import pandas as pd\n",
    "import plotly.express as px\n",
    "import seaborn as sns\n",
    "from matplotlib import pyplot as plt\n",
    "import squarify\n",
    "import statsmodels.formula.api as smf\n",
    "from sklearn.preprocessing import LabelEncoder\n",
    "from matplotlib.markers import MarkerStyle\n",
    "from sklearn.metrics import mean_squared_error\n",
    "from sklearn.metrics import r2_score\n",
    "import math\n",
    "from sklearn.model_selection import train_test_split\n",
    "from sklearn.ensemble import RandomForestRegressor\n",
    "from sklearn import tree\n",
    "from sklearn.tree import DecisionTreeRegressor\n",
    "from sklearn.model_selection import GridSearchCV"
   ]
  },
  {
   "cell_type": "code",
   "execution_count": 40,
   "id": "215493fc",
   "metadata": {},
   "outputs": [],
   "source": [
    "df = pd.read_csv(\"Data Science Salaries.csv\")"
   ]
  },
  {
   "cell_type": "code",
   "execution_count": 41,
   "id": "fd6e6fb9",
   "metadata": {},
   "outputs": [],
   "source": [
    "original_df = df.copy()"
   ]
  },
  {
   "cell_type": "code",
   "execution_count": 42,
   "id": "8a481c4e",
   "metadata": {},
   "outputs": [
    {
     "name": "stdout",
     "output_type": "stream",
     "text": [
      "<class 'pandas.core.frame.DataFrame'>\n",
      "RangeIndex: 607 entries, 0 to 606\n",
      "Data columns (total 12 columns):\n",
      " #   Column              Non-Null Count  Dtype \n",
      "---  ------              --------------  ----- \n",
      " 0   Unnamed: 0          607 non-null    int64 \n",
      " 1   work_year           607 non-null    int64 \n",
      " 2   experience_level    607 non-null    object\n",
      " 3   employment_type     607 non-null    object\n",
      " 4   job_title           607 non-null    object\n",
      " 5   salary              607 non-null    int64 \n",
      " 6   salary_currency     607 non-null    object\n",
      " 7   salary_in_usd       607 non-null    int64 \n",
      " 8   employee_residence  607 non-null    object\n",
      " 9   remote_ratio        607 non-null    int64 \n",
      " 10  company_location    607 non-null    object\n",
      " 11  company_size        607 non-null    object\n",
      "dtypes: int64(5), object(7)\n",
      "memory usage: 57.0+ KB\n"
     ]
    }
   ],
   "source": [
    "df.info()"
   ]
  },
  {
   "cell_type": "code",
   "execution_count": 43,
   "id": "5880866c",
   "metadata": {
    "scrolled": true
   },
   "outputs": [
    {
     "data": {
      "text/html": [
       "<div>\n",
       "<style scoped>\n",
       "    .dataframe tbody tr th:only-of-type {\n",
       "        vertical-align: middle;\n",
       "    }\n",
       "\n",
       "    .dataframe tbody tr th {\n",
       "        vertical-align: top;\n",
       "    }\n",
       "\n",
       "    .dataframe thead th {\n",
       "        text-align: right;\n",
       "    }\n",
       "</style>\n",
       "<table border=\"1\" class=\"dataframe\">\n",
       "  <thead>\n",
       "    <tr style=\"text-align: right;\">\n",
       "      <th></th>\n",
       "      <th>Unnamed: 0</th>\n",
       "      <th>work_year</th>\n",
       "      <th>experience_level</th>\n",
       "      <th>employment_type</th>\n",
       "      <th>job_title</th>\n",
       "      <th>salary</th>\n",
       "      <th>salary_currency</th>\n",
       "      <th>salary_in_usd</th>\n",
       "      <th>employee_residence</th>\n",
       "      <th>remote_ratio</th>\n",
       "      <th>company_location</th>\n",
       "      <th>company_size</th>\n",
       "    </tr>\n",
       "  </thead>\n",
       "  <tbody>\n",
       "    <tr>\n",
       "      <th>0</th>\n",
       "      <td>0</td>\n",
       "      <td>2020</td>\n",
       "      <td>MI</td>\n",
       "      <td>FT</td>\n",
       "      <td>Data Scientist</td>\n",
       "      <td>70000</td>\n",
       "      <td>EUR</td>\n",
       "      <td>79833</td>\n",
       "      <td>DE</td>\n",
       "      <td>0</td>\n",
       "      <td>DE</td>\n",
       "      <td>L</td>\n",
       "    </tr>\n",
       "    <tr>\n",
       "      <th>1</th>\n",
       "      <td>1</td>\n",
       "      <td>2020</td>\n",
       "      <td>SE</td>\n",
       "      <td>FT</td>\n",
       "      <td>Machine Learning Scientist</td>\n",
       "      <td>260000</td>\n",
       "      <td>USD</td>\n",
       "      <td>260000</td>\n",
       "      <td>JP</td>\n",
       "      <td>0</td>\n",
       "      <td>JP</td>\n",
       "      <td>S</td>\n",
       "    </tr>\n",
       "    <tr>\n",
       "      <th>2</th>\n",
       "      <td>2</td>\n",
       "      <td>2020</td>\n",
       "      <td>SE</td>\n",
       "      <td>FT</td>\n",
       "      <td>Big Data Engineer</td>\n",
       "      <td>85000</td>\n",
       "      <td>GBP</td>\n",
       "      <td>109024</td>\n",
       "      <td>GB</td>\n",
       "      <td>50</td>\n",
       "      <td>GB</td>\n",
       "      <td>M</td>\n",
       "    </tr>\n",
       "    <tr>\n",
       "      <th>3</th>\n",
       "      <td>3</td>\n",
       "      <td>2020</td>\n",
       "      <td>MI</td>\n",
       "      <td>FT</td>\n",
       "      <td>Product Data Analyst</td>\n",
       "      <td>20000</td>\n",
       "      <td>USD</td>\n",
       "      <td>20000</td>\n",
       "      <td>HN</td>\n",
       "      <td>0</td>\n",
       "      <td>HN</td>\n",
       "      <td>S</td>\n",
       "    </tr>\n",
       "    <tr>\n",
       "      <th>4</th>\n",
       "      <td>4</td>\n",
       "      <td>2020</td>\n",
       "      <td>SE</td>\n",
       "      <td>FT</td>\n",
       "      <td>Machine Learning Engineer</td>\n",
       "      <td>150000</td>\n",
       "      <td>USD</td>\n",
       "      <td>150000</td>\n",
       "      <td>US</td>\n",
       "      <td>50</td>\n",
       "      <td>US</td>\n",
       "      <td>L</td>\n",
       "    </tr>\n",
       "  </tbody>\n",
       "</table>\n",
       "</div>"
      ],
      "text/plain": [
       "   Unnamed: 0  work_year experience_level employment_type  \\\n",
       "0           0       2020               MI              FT   \n",
       "1           1       2020               SE              FT   \n",
       "2           2       2020               SE              FT   \n",
       "3           3       2020               MI              FT   \n",
       "4           4       2020               SE              FT   \n",
       "\n",
       "                    job_title  salary salary_currency  salary_in_usd  \\\n",
       "0              Data Scientist   70000             EUR          79833   \n",
       "1  Machine Learning Scientist  260000             USD         260000   \n",
       "2           Big Data Engineer   85000             GBP         109024   \n",
       "3        Product Data Analyst   20000             USD          20000   \n",
       "4   Machine Learning Engineer  150000             USD         150000   \n",
       "\n",
       "  employee_residence  remote_ratio company_location company_size  \n",
       "0                 DE             0               DE            L  \n",
       "1                 JP             0               JP            S  \n",
       "2                 GB            50               GB            M  \n",
       "3                 HN             0               HN            S  \n",
       "4                 US            50               US            L  "
      ]
     },
     "execution_count": 43,
     "metadata": {},
     "output_type": "execute_result"
    }
   ],
   "source": [
    "df.head()"
   ]
  },
  {
   "cell_type": "code",
   "execution_count": 44,
   "id": "54c1679d",
   "metadata": {
    "scrolled": true
   },
   "outputs": [
    {
     "data": {
      "text/plain": [
       "Unnamed: 0            0\n",
       "work_year             0\n",
       "experience_level      0\n",
       "employment_type       0\n",
       "job_title             0\n",
       "salary                0\n",
       "salary_currency       0\n",
       "salary_in_usd         0\n",
       "employee_residence    0\n",
       "remote_ratio          0\n",
       "company_location      0\n",
       "company_size          0\n",
       "dtype: int64"
      ]
     },
     "execution_count": 44,
     "metadata": {},
     "output_type": "execute_result"
    }
   ],
   "source": [
    "df.isnull().sum()"
   ]
  },
  {
   "cell_type": "code",
   "execution_count": 45,
   "id": "5c38fd91",
   "metadata": {},
   "outputs": [
    {
     "data": {
      "text/plain": [
       "(607, 12)"
      ]
     },
     "execution_count": 45,
     "metadata": {},
     "output_type": "execute_result"
    }
   ],
   "source": [
    "df.shape"
   ]
  },
  {
   "cell_type": "code",
   "execution_count": 46,
   "id": "a88688a4",
   "metadata": {},
   "outputs": [],
   "source": [
    "df = df.drop(['Unnamed: 0', 'salary', 'salary_currency'], axis = 1)"
   ]
  },
  {
   "cell_type": "code",
   "execution_count": 47,
   "id": "57b4ff9c",
   "metadata": {},
   "outputs": [
    {
     "data": {
      "text/plain": [
       "(607, 9)"
      ]
     },
     "execution_count": 47,
     "metadata": {},
     "output_type": "execute_result"
    }
   ],
   "source": [
    "df.shape"
   ]
  },
  {
   "cell_type": "code",
   "execution_count": 48,
   "id": "ffbcba68",
   "metadata": {
    "scrolled": false
   },
   "outputs": [
    {
     "data": {
      "text/plain": [
       "count       607.000000\n",
       "mean     112297.869852\n",
       "std       70957.259411\n",
       "min        2859.000000\n",
       "25%       62726.000000\n",
       "50%      101570.000000\n",
       "75%      150000.000000\n",
       "max      600000.000000\n",
       "Name: salary_in_usd, dtype: float64"
      ]
     },
     "execution_count": 48,
     "metadata": {},
     "output_type": "execute_result"
    }
   ],
   "source": [
    "df['salary_in_usd'].describe()"
   ]
  },
  {
   "cell_type": "code",
   "execution_count": 49,
   "id": "c5723b34",
   "metadata": {
    "scrolled": true
   },
   "outputs": [
    {
     "name": "stdout",
     "output_type": "stream",
     "text": [
      "<class 'pandas.core.frame.DataFrame'>\n",
      "RangeIndex: 607 entries, 0 to 606\n",
      "Data columns (total 9 columns):\n",
      " #   Column              Non-Null Count  Dtype \n",
      "---  ------              --------------  ----- \n",
      " 0   work_year           607 non-null    int64 \n",
      " 1   experience_level    607 non-null    object\n",
      " 2   employment_type     607 non-null    object\n",
      " 3   job_title           607 non-null    object\n",
      " 4   salary_in_usd       607 non-null    int64 \n",
      " 5   employee_residence  607 non-null    object\n",
      " 6   remote_ratio        607 non-null    int64 \n",
      " 7   company_location    607 non-null    object\n",
      " 8   company_size        607 non-null    object\n",
      "dtypes: int64(3), object(6)\n",
      "memory usage: 42.8+ KB\n"
     ]
    }
   ],
   "source": [
    "df.info()"
   ]
  },
  {
   "cell_type": "code",
   "execution_count": 51,
   "id": "b2308eac",
   "metadata": {
    "scrolled": true
   },
   "outputs": [
    {
     "data": {
      "text/plain": [
       "100    381\n",
       "0      127\n",
       "50      99\n",
       "Name: remote_ratio, dtype: int64"
      ]
     },
     "execution_count": 51,
     "metadata": {},
     "output_type": "execute_result"
    }
   ],
   "source": [
    "df['remote_ratio'].value_counts()"
   ]
  },
  {
   "cell_type": "code",
   "execution_count": 52,
   "id": "4fa3b759",
   "metadata": {},
   "outputs": [
    {
     "data": {
      "text/plain": [
       "SE    280\n",
       "MI    213\n",
       "EN     88\n",
       "EX     26\n",
       "Name: experience_level, dtype: int64"
      ]
     },
     "execution_count": 52,
     "metadata": {},
     "output_type": "execute_result"
    }
   ],
   "source": [
    "df['experience_level'].value_counts()"
   ]
  },
  {
   "cell_type": "code",
   "execution_count": 53,
   "id": "2f7edec7",
   "metadata": {
    "scrolled": true
   },
   "outputs": [
    {
     "data": {
      "text/plain": [
       "FT    588\n",
       "PT     10\n",
       "CT      5\n",
       "FL      4\n",
       "Name: employment_type, dtype: int64"
      ]
     },
     "execution_count": 53,
     "metadata": {},
     "output_type": "execute_result"
    }
   ],
   "source": [
    "df['employment_type'].value_counts()"
   ]
  },
  {
   "cell_type": "code",
   "execution_count": 54,
   "id": "dc9b6b2f",
   "metadata": {
    "scrolled": false
   },
   "outputs": [
    {
     "data": {
      "text/plain": [
       "2022    318\n",
       "2021    217\n",
       "2020     72\n",
       "Name: work_year, dtype: int64"
      ]
     },
     "execution_count": 54,
     "metadata": {},
     "output_type": "execute_result"
    }
   ],
   "source": [
    "df['work_year'].value_counts()"
   ]
  },
  {
   "cell_type": "code",
   "execution_count": 55,
   "id": "81e99486",
   "metadata": {},
   "outputs": [],
   "source": [
    "import country_converter as coco"
   ]
  },
  {
   "cell_type": "code",
   "execution_count": 56,
   "id": "15f62a2d",
   "metadata": {},
   "outputs": [
    {
     "data": {
      "text/plain": [
       "0    DE\n",
       "1    JP\n",
       "2    GB\n",
       "3    HN\n",
       "4    US\n",
       "Name: company_location, dtype: object"
      ]
     },
     "execution_count": 56,
     "metadata": {},
     "output_type": "execute_result"
    }
   ],
   "source": [
    "df['company_location'].head(5)\n",
    "    "
   ]
  },
  {
   "cell_type": "code",
   "execution_count": 57,
   "id": "83fa3d49",
   "metadata": {},
   "outputs": [],
   "source": [
    "df['employee_residence'] = coco.convert(names = df['employee_residence'], to = 'name_short')"
   ]
  },
  {
   "cell_type": "code",
   "execution_count": 58,
   "id": "7971e433",
   "metadata": {},
   "outputs": [],
   "source": [
    "df['company_location'] = coco.convert(names = df['company_location'], to = 'name_short')"
   ]
  },
  {
   "cell_type": "code",
   "execution_count": 59,
   "id": "91a692b6",
   "metadata": {
    "scrolled": false
   },
   "outputs": [
    {
     "data": {
      "text/plain": [
       "United States           355\n",
       "United Kingdom           47\n",
       "Canada                   30\n",
       "Germany                  28\n",
       "India                    24\n",
       "France                   15\n",
       "Spain                    14\n",
       "Greece                   11\n",
       "Japan                     6\n",
       "Netherlands               4\n",
       "Austria                   4\n",
       "Portugal                  4\n",
       "Poland                    4\n",
       "Luxembourg                3\n",
       "Pakistan                  3\n",
       "Brazil                    3\n",
       "United Arab Emirates      3\n",
       "Mexico                    3\n",
       "Australia                 3\n",
       "Türkiye                   3\n",
       "Denmark                   3\n",
       "Italy                     2\n",
       "Czech Republic            2\n",
       "Slovenia                  2\n",
       "Russia                    2\n",
       "Switzerland               2\n",
       "Nigeria                   2\n",
       "China                     2\n",
       "Belgium                   2\n",
       "Vietnam                   1\n",
       "Estonia                   1\n",
       "American Samoa            1\n",
       "Algeria                   1\n",
       "Malaysia                  1\n",
       "Moldova                   1\n",
       "Kenya                     1\n",
       "Singapore                 1\n",
       "Colombia                  1\n",
       "Iran                      1\n",
       "Chile                     1\n",
       "Malta                     1\n",
       "Israel                    1\n",
       "Ukraine                   1\n",
       "Iraq                      1\n",
       "Romania                   1\n",
       "Croatia                   1\n",
       "New Zealand               1\n",
       "Hungary                   1\n",
       "Honduras                  1\n",
       "Ireland                   1\n",
       "Name: company_location, dtype: int64"
      ]
     },
     "execution_count": 59,
     "metadata": {},
     "output_type": "execute_result"
    }
   ],
   "source": [
    "df['company_location'].value_counts()"
   ]
  },
  {
   "cell_type": "code",
   "execution_count": 60,
   "id": "6b27a18e",
   "metadata": {},
   "outputs": [],
   "source": [
    "kept_countries = ('United States', 'United Kingdom', 'Canada', 'Germany', 'India', 'France', 'Spain', 'Greece', 'Japan')"
   ]
  },
  {
   "cell_type": "code",
   "execution_count": 61,
   "id": "c89af7d7",
   "metadata": {},
   "outputs": [],
   "source": [
    "# keeping only desired countries for company location\n",
    "df = df[df.company_location.isin(kept_countries)]"
   ]
  },
  {
   "cell_type": "code",
   "execution_count": 62,
   "id": "bb13660a",
   "metadata": {
    "scrolled": false
   },
   "outputs": [
    {
     "data": {
      "text/plain": [
       "United States     355\n",
       "United Kingdom     47\n",
       "Canada             30\n",
       "Germany            28\n",
       "India              24\n",
       "France             15\n",
       "Spain              14\n",
       "Greece             11\n",
       "Japan               6\n",
       "Name: company_location, dtype: int64"
      ]
     },
     "execution_count": 62,
     "metadata": {},
     "output_type": "execute_result"
    }
   ],
   "source": [
    "df['company_location'].value_counts()"
   ]
  },
  {
   "cell_type": "code",
   "execution_count": 25,
   "id": "7463cfbc",
   "metadata": {
    "scrolled": true
   },
   "outputs": [
    {
     "data": {
      "text/plain": [
       "United States     332\n",
       "United Kingdom     44\n",
       "Canada             29\n",
       "India              28\n",
       "Germany            24\n",
       "France             17\n",
       "Spain              14\n",
       "Greece             12\n",
       "Japan               6\n",
       "Brazil              3\n",
       "Pakistan            3\n",
       "Romania             2\n",
       "Vietnam             2\n",
       "Russia              2\n",
       "Bulgaria            1\n",
       "Philippines         1\n",
       "Hungary             1\n",
       "Portugal            1\n",
       "Poland              1\n",
       "Italy               1\n",
       "Hong Kong           1\n",
       "Serbia              1\n",
       "Puerto Rico         1\n",
       "Netherlands         1\n",
       "Malaysia            1\n",
       "Bolivia             1\n",
       "Name: employee_residence, dtype: int64"
      ]
     },
     "execution_count": 25,
     "metadata": {},
     "output_type": "execute_result"
    }
   ],
   "source": [
    "df['employee_residence'].value_counts()"
   ]
  },
  {
   "cell_type": "code",
   "execution_count": 63,
   "id": "24ec4d66",
   "metadata": {},
   "outputs": [],
   "source": [
    "# keeping only desired countries for employee residence\n",
    "df = df[df.employee_residence.isin(kept_countries)]"
   ]
  },
  {
   "cell_type": "code",
   "execution_count": 64,
   "id": "2eacac9f",
   "metadata": {
    "scrolled": true
   },
   "outputs": [
    {
     "data": {
      "text/plain": [
       "United States     332\n",
       "United Kingdom     44\n",
       "Canada             29\n",
       "India              28\n",
       "Germany            24\n",
       "France             17\n",
       "Spain              14\n",
       "Greece             12\n",
       "Japan               6\n",
       "Name: employee_residence, dtype: int64"
      ]
     },
     "execution_count": 64,
     "metadata": {},
     "output_type": "execute_result"
    }
   ],
   "source": [
    "df['employee_residence'].value_counts()"
   ]
  },
  {
   "cell_type": "code",
   "execution_count": 65,
   "id": "0a34b238",
   "metadata": {
    "scrolled": true
   },
   "outputs": [
    {
     "data": {
      "text/html": [
       "<div>\n",
       "<style scoped>\n",
       "    .dataframe tbody tr th:only-of-type {\n",
       "        vertical-align: middle;\n",
       "    }\n",
       "\n",
       "    .dataframe tbody tr th {\n",
       "        vertical-align: top;\n",
       "    }\n",
       "\n",
       "    .dataframe thead th {\n",
       "        text-align: right;\n",
       "    }\n",
       "</style>\n",
       "<table border=\"1\" class=\"dataframe\">\n",
       "  <thead>\n",
       "    <tr style=\"text-align: right;\">\n",
       "      <th></th>\n",
       "      <th>work_year</th>\n",
       "      <th>experience_level</th>\n",
       "      <th>employment_type</th>\n",
       "      <th>job_title</th>\n",
       "      <th>salary_in_usd</th>\n",
       "      <th>employee_residence</th>\n",
       "      <th>remote_ratio</th>\n",
       "      <th>company_location</th>\n",
       "      <th>company_size</th>\n",
       "    </tr>\n",
       "  </thead>\n",
       "  <tbody>\n",
       "    <tr>\n",
       "      <th>0</th>\n",
       "      <td>2020</td>\n",
       "      <td>MI</td>\n",
       "      <td>FT</td>\n",
       "      <td>Data Scientist</td>\n",
       "      <td>79833</td>\n",
       "      <td>Germany</td>\n",
       "      <td>0</td>\n",
       "      <td>Germany</td>\n",
       "      <td>L</td>\n",
       "    </tr>\n",
       "    <tr>\n",
       "      <th>1</th>\n",
       "      <td>2020</td>\n",
       "      <td>SE</td>\n",
       "      <td>FT</td>\n",
       "      <td>Machine Learning Scientist</td>\n",
       "      <td>260000</td>\n",
       "      <td>Japan</td>\n",
       "      <td>0</td>\n",
       "      <td>Japan</td>\n",
       "      <td>S</td>\n",
       "    </tr>\n",
       "    <tr>\n",
       "      <th>2</th>\n",
       "      <td>2020</td>\n",
       "      <td>SE</td>\n",
       "      <td>FT</td>\n",
       "      <td>Big Data Engineer</td>\n",
       "      <td>109024</td>\n",
       "      <td>United Kingdom</td>\n",
       "      <td>50</td>\n",
       "      <td>United Kingdom</td>\n",
       "      <td>M</td>\n",
       "    </tr>\n",
       "    <tr>\n",
       "      <th>4</th>\n",
       "      <td>2020</td>\n",
       "      <td>SE</td>\n",
       "      <td>FT</td>\n",
       "      <td>Machine Learning Engineer</td>\n",
       "      <td>150000</td>\n",
       "      <td>United States</td>\n",
       "      <td>50</td>\n",
       "      <td>United States</td>\n",
       "      <td>L</td>\n",
       "    </tr>\n",
       "    <tr>\n",
       "      <th>5</th>\n",
       "      <td>2020</td>\n",
       "      <td>EN</td>\n",
       "      <td>FT</td>\n",
       "      <td>Data Analyst</td>\n",
       "      <td>72000</td>\n",
       "      <td>United States</td>\n",
       "      <td>100</td>\n",
       "      <td>United States</td>\n",
       "      <td>L</td>\n",
       "    </tr>\n",
       "    <tr>\n",
       "      <th>6</th>\n",
       "      <td>2020</td>\n",
       "      <td>SE</td>\n",
       "      <td>FT</td>\n",
       "      <td>Lead Data Scientist</td>\n",
       "      <td>190000</td>\n",
       "      <td>United States</td>\n",
       "      <td>100</td>\n",
       "      <td>United States</td>\n",
       "      <td>S</td>\n",
       "    </tr>\n",
       "    <tr>\n",
       "      <th>8</th>\n",
       "      <td>2020</td>\n",
       "      <td>MI</td>\n",
       "      <td>FT</td>\n",
       "      <td>Business Data Analyst</td>\n",
       "      <td>135000</td>\n",
       "      <td>United States</td>\n",
       "      <td>100</td>\n",
       "      <td>United States</td>\n",
       "      <td>L</td>\n",
       "    </tr>\n",
       "    <tr>\n",
       "      <th>10</th>\n",
       "      <td>2020</td>\n",
       "      <td>EN</td>\n",
       "      <td>FT</td>\n",
       "      <td>Data Scientist</td>\n",
       "      <td>51321</td>\n",
       "      <td>France</td>\n",
       "      <td>0</td>\n",
       "      <td>France</td>\n",
       "      <td>S</td>\n",
       "    </tr>\n",
       "    <tr>\n",
       "      <th>11</th>\n",
       "      <td>2020</td>\n",
       "      <td>MI</td>\n",
       "      <td>FT</td>\n",
       "      <td>Data Scientist</td>\n",
       "      <td>40481</td>\n",
       "      <td>India</td>\n",
       "      <td>0</td>\n",
       "      <td>India</td>\n",
       "      <td>L</td>\n",
       "    </tr>\n",
       "    <tr>\n",
       "      <th>12</th>\n",
       "      <td>2020</td>\n",
       "      <td>EN</td>\n",
       "      <td>FT</td>\n",
       "      <td>Data Scientist</td>\n",
       "      <td>39916</td>\n",
       "      <td>France</td>\n",
       "      <td>0</td>\n",
       "      <td>France</td>\n",
       "      <td>M</td>\n",
       "    </tr>\n",
       "  </tbody>\n",
       "</table>\n",
       "</div>"
      ],
      "text/plain": [
       "    work_year experience_level employment_type                   job_title  \\\n",
       "0        2020               MI              FT              Data Scientist   \n",
       "1        2020               SE              FT  Machine Learning Scientist   \n",
       "2        2020               SE              FT           Big Data Engineer   \n",
       "4        2020               SE              FT   Machine Learning Engineer   \n",
       "5        2020               EN              FT                Data Analyst   \n",
       "6        2020               SE              FT         Lead Data Scientist   \n",
       "8        2020               MI              FT       Business Data Analyst   \n",
       "10       2020               EN              FT              Data Scientist   \n",
       "11       2020               MI              FT              Data Scientist   \n",
       "12       2020               EN              FT              Data Scientist   \n",
       "\n",
       "    salary_in_usd employee_residence  remote_ratio company_location  \\\n",
       "0           79833            Germany             0          Germany   \n",
       "1          260000              Japan             0            Japan   \n",
       "2          109024     United Kingdom            50   United Kingdom   \n",
       "4          150000      United States            50    United States   \n",
       "5           72000      United States           100    United States   \n",
       "6          190000      United States           100    United States   \n",
       "8          135000      United States           100    United States   \n",
       "10          51321             France             0           France   \n",
       "11          40481              India             0            India   \n",
       "12          39916             France             0           France   \n",
       "\n",
       "   company_size  \n",
       "0             L  \n",
       "1             S  \n",
       "2             M  \n",
       "4             L  \n",
       "5             L  \n",
       "6             S  \n",
       "8             L  \n",
       "10            S  \n",
       "11            L  \n",
       "12            M  "
      ]
     },
     "execution_count": 65,
     "metadata": {},
     "output_type": "execute_result"
    }
   ],
   "source": [
    "df.head(10)"
   ]
  },
  {
   "cell_type": "code",
   "execution_count": 66,
   "id": "25c6793b",
   "metadata": {
    "scrolled": true
   },
   "outputs": [
    {
     "data": {
      "text/plain": [
       "Data Scientist                              121\n",
       "Data Engineer                               117\n",
       "Data Analyst                                 94\n",
       "Machine Learning Engineer                    27\n",
       "Data Science Manager                         12\n",
       "Research Scientist                           11\n",
       "Data Architect                               11\n",
       "Machine Learning Scientist                    7\n",
       "Principal Data Scientist                      7\n",
       "Data Analytics Manager                        7\n",
       "Data Science Consultant                       7\n",
       "Director of Data Science                      6\n",
       "Data Engineering Manager                      5\n",
       "ML Engineer                                   5\n",
       "Applied Data Scientist                        5\n",
       "Business Data Analyst                         4\n",
       "BI Data Analyst                               4\n",
       "Big Data Engineer                             4\n",
       "Analytics Engineer                            4\n",
       "AI Scientist                                  3\n",
       "Head of Data Science                          3\n",
       "Lead Data Analyst                             3\n",
       "Lead Data Engineer                            3\n",
       "Principal Data Engineer                       3\n",
       "Principal Data Analyst                        2\n",
       "Machine Learning Developer                    2\n",
       "ETL Developer                                 2\n",
       "Financial Data Analyst                        2\n",
       "Data Science Engineer                         2\n",
       "Director of Data Engineering                  2\n",
       "Computer Vision Software Engineer             2\n",
       "Data Analytics Engineer                       2\n",
       "Lead Data Scientist                           2\n",
       "Machine Learning Manager                      1\n",
       "Lead Machine Learning Engineer                1\n",
       "NLP Engineer                                  1\n",
       "Computer Vision Engineer                      1\n",
       "Head of Machine Learning                      1\n",
       "Product Data Analyst                          1\n",
       "Head of Data                                  1\n",
       "Staff Data Scientist                          1\n",
       "Applied Machine Learning Scientist            1\n",
       "Big Data Architect                            1\n",
       "3D Computer Vision Researcher                 1\n",
       "Machine Learning Infrastructure Engineer      1\n",
       "Finance Data Analyst                          1\n",
       "Data Specialist                               1\n",
       "Data Analytics Lead                           1\n",
       "Name: job_title, dtype: int64"
      ]
     },
     "execution_count": 66,
     "metadata": {},
     "output_type": "execute_result"
    }
   ],
   "source": [
    "df['job_title'].value_counts()"
   ]
  },
  {
   "cell_type": "code",
   "execution_count": 67,
   "id": "2f2ada97",
   "metadata": {},
   "outputs": [],
   "source": [
    "kept_jobs = ('Data Scientist', 'Data Engineer', 'Data Analyst',  'Machine Learning Engineer', 'Data Science Manager', 'Research Scientist', 'Data Architect', 'Data Science Consultant',  'Director of Data Science')"
   ]
  },
  {
   "cell_type": "code",
   "execution_count": 68,
   "id": "7fcba313",
   "metadata": {},
   "outputs": [],
   "source": [
    "# keeping only desired jobs\n",
    "df = df[df.job_title.isin(kept_jobs)]"
   ]
  },
  {
   "cell_type": "code",
   "execution_count": 69,
   "id": "f677345c",
   "metadata": {},
   "outputs": [
    {
     "data": {
      "text/plain": [
       "Data Scientist               121\n",
       "Data Engineer                117\n",
       "Data Analyst                  94\n",
       "Machine Learning Engineer     27\n",
       "Data Science Manager          12\n",
       "Research Scientist            11\n",
       "Data Architect                11\n",
       "Data Science Consultant        7\n",
       "Director of Data Science       6\n",
       "Name: job_title, dtype: int64"
      ]
     },
     "execution_count": 69,
     "metadata": {},
     "output_type": "execute_result"
    }
   ],
   "source": [
    "df['job_title'].value_counts()"
   ]
  },
  {
   "cell_type": "code",
   "execution_count": 70,
   "id": "8e387211",
   "metadata": {},
   "outputs": [],
   "source": [
    "# Format salary with $K\n",
    "def format_salary(salary):\n",
    "    \"\"\"takes a large number and formats it into K\"\"\"\n",
    "    s = '{:1.0f}K'.format(salary*1e-3)\n",
    "    return s\n",
    "\n",
    "df['formatted_salary']=df['salary_in_usd'].apply(format_salary)"
   ]
  },
  {
   "cell_type": "code",
   "execution_count": 71,
   "id": "96e1b973",
   "metadata": {
    "scrolled": true
   },
   "outputs": [
    {
     "data": {
      "text/html": [
       "<div>\n",
       "<style scoped>\n",
       "    .dataframe tbody tr th:only-of-type {\n",
       "        vertical-align: middle;\n",
       "    }\n",
       "\n",
       "    .dataframe tbody tr th {\n",
       "        vertical-align: top;\n",
       "    }\n",
       "\n",
       "    .dataframe thead th {\n",
       "        text-align: right;\n",
       "    }\n",
       "</style>\n",
       "<table border=\"1\" class=\"dataframe\">\n",
       "  <thead>\n",
       "    <tr style=\"text-align: right;\">\n",
       "      <th></th>\n",
       "      <th>work_year</th>\n",
       "      <th>experience_level</th>\n",
       "      <th>employment_type</th>\n",
       "      <th>job_title</th>\n",
       "      <th>salary_in_usd</th>\n",
       "      <th>employee_residence</th>\n",
       "      <th>remote_ratio</th>\n",
       "      <th>company_location</th>\n",
       "      <th>company_size</th>\n",
       "      <th>formatted_salary</th>\n",
       "    </tr>\n",
       "  </thead>\n",
       "  <tbody>\n",
       "    <tr>\n",
       "      <th>0</th>\n",
       "      <td>2020</td>\n",
       "      <td>MI</td>\n",
       "      <td>FT</td>\n",
       "      <td>Data Scientist</td>\n",
       "      <td>79833</td>\n",
       "      <td>Germany</td>\n",
       "      <td>0</td>\n",
       "      <td>Germany</td>\n",
       "      <td>L</td>\n",
       "      <td>80K</td>\n",
       "    </tr>\n",
       "    <tr>\n",
       "      <th>4</th>\n",
       "      <td>2020</td>\n",
       "      <td>SE</td>\n",
       "      <td>FT</td>\n",
       "      <td>Machine Learning Engineer</td>\n",
       "      <td>150000</td>\n",
       "      <td>United States</td>\n",
       "      <td>50</td>\n",
       "      <td>United States</td>\n",
       "      <td>L</td>\n",
       "      <td>150K</td>\n",
       "    </tr>\n",
       "    <tr>\n",
       "      <th>5</th>\n",
       "      <td>2020</td>\n",
       "      <td>EN</td>\n",
       "      <td>FT</td>\n",
       "      <td>Data Analyst</td>\n",
       "      <td>72000</td>\n",
       "      <td>United States</td>\n",
       "      <td>100</td>\n",
       "      <td>United States</td>\n",
       "      <td>L</td>\n",
       "      <td>72K</td>\n",
       "    </tr>\n",
       "    <tr>\n",
       "      <th>10</th>\n",
       "      <td>2020</td>\n",
       "      <td>EN</td>\n",
       "      <td>FT</td>\n",
       "      <td>Data Scientist</td>\n",
       "      <td>51321</td>\n",
       "      <td>France</td>\n",
       "      <td>0</td>\n",
       "      <td>France</td>\n",
       "      <td>S</td>\n",
       "      <td>51K</td>\n",
       "    </tr>\n",
       "    <tr>\n",
       "      <th>11</th>\n",
       "      <td>2020</td>\n",
       "      <td>MI</td>\n",
       "      <td>FT</td>\n",
       "      <td>Data Scientist</td>\n",
       "      <td>40481</td>\n",
       "      <td>India</td>\n",
       "      <td>0</td>\n",
       "      <td>India</td>\n",
       "      <td>L</td>\n",
       "      <td>40K</td>\n",
       "    </tr>\n",
       "  </tbody>\n",
       "</table>\n",
       "</div>"
      ],
      "text/plain": [
       "    work_year experience_level employment_type                  job_title  \\\n",
       "0        2020               MI              FT             Data Scientist   \n",
       "4        2020               SE              FT  Machine Learning Engineer   \n",
       "5        2020               EN              FT               Data Analyst   \n",
       "10       2020               EN              FT             Data Scientist   \n",
       "11       2020               MI              FT             Data Scientist   \n",
       "\n",
       "    salary_in_usd employee_residence  remote_ratio company_location  \\\n",
       "0           79833            Germany             0          Germany   \n",
       "4          150000      United States            50    United States   \n",
       "5           72000      United States           100    United States   \n",
       "10          51321             France             0           France   \n",
       "11          40481              India             0            India   \n",
       "\n",
       "   company_size formatted_salary  \n",
       "0             L              80K  \n",
       "4             L             150K  \n",
       "5             L              72K  \n",
       "10            S              51K  \n",
       "11            L              40K  "
      ]
     },
     "execution_count": 71,
     "metadata": {},
     "output_type": "execute_result"
    }
   ],
   "source": [
    "df.head(5)"
   ]
  },
  {
   "cell_type": "code",
   "execution_count": 72,
   "id": "f21d3917",
   "metadata": {},
   "outputs": [
    {
     "data": {
      "text/plain": [
       "(406, 10)"
      ]
     },
     "execution_count": 72,
     "metadata": {},
     "output_type": "execute_result"
    }
   ],
   "source": [
    "df.shape\n"
   ]
  },
  {
   "cell_type": "code",
   "execution_count": 73,
   "id": "02c5f9f1",
   "metadata": {
    "scrolled": true
   },
   "outputs": [
    {
     "data": {
      "text/plain": [
       "count       277.000000\n",
       "mean     140025.620939\n",
       "std       55521.648495\n",
       "min        5679.000000\n",
       "25%      102100.000000\n",
       "50%      135000.000000\n",
       "75%      165400.000000\n",
       "max      450000.000000\n",
       "Name: salary_in_usd, dtype: float64"
      ]
     },
     "execution_count": 73,
     "metadata": {},
     "output_type": "execute_result"
    }
   ],
   "source": [
    "# Investigate outliers\n",
    "df[df['company_location'] == 'United States'].describe()['salary_in_usd']"
   ]
  },
  {
   "cell_type": "markdown",
   "id": "44bef55c",
   "metadata": {},
   "source": [
    "# Map"
   ]
  },
  {
   "cell_type": "code",
   "execution_count": 74,
   "id": "2651138b",
   "metadata": {},
   "outputs": [],
   "source": [
    "#Removing Outliers\n",
    "map_df = df[df['salary_in_usd'] < 200000]"
   ]
  },
  {
   "cell_type": "code",
   "execution_count": 75,
   "id": "8850d7f8",
   "metadata": {},
   "outputs": [],
   "source": [
    "# Group by country for average\n",
    "df_salary_percountry = map_df[['company_location', 'salary_in_usd']].groupby(['company_location']).mean().reset_index()"
   ]
  },
  {
   "cell_type": "code",
   "execution_count": 76,
   "id": "d3ba75f6",
   "metadata": {},
   "outputs": [],
   "source": [
    "df_salary_percountry['salary_in_usd'] = df_salary_percountry['salary_in_usd'].astype(int)"
   ]
  },
  {
   "cell_type": "code",
   "execution_count": 79,
   "id": "ae578de6",
   "metadata": {
    "scrolled": false
   },
   "outputs": [
    {
     "data": {
      "application/vnd.plotly.v1+json": {
       "config": {
        "plotlyServerURL": "https://plot.ly"
       },
       "data": [
        {
         "geo": "geo",
         "hovertemplate": "company_location=%{location}<br>salary_in_usd=%{marker.size}<extra></extra>",
         "legendgroup": "Canada",
         "locationmode": "country names",
         "locations": [
          "Canada"
         ],
         "marker": {
          "color": "#636efa",
          "size": [
           97488
          ],
          "sizemode": "area",
          "sizeref": 308.115,
          "symbol": "circle"
         },
         "mode": "markers",
         "name": "Canada",
         "showlegend": true,
         "type": "scattergeo"
        },
        {
         "geo": "geo",
         "hovertemplate": "company_location=%{location}<br>salary_in_usd=%{marker.size}<extra></extra>",
         "legendgroup": "France",
         "locationmode": "country names",
         "locations": [
          "France"
         ],
         "marker": {
          "color": "#EF553B",
          "size": [
           63970
          ],
          "sizemode": "area",
          "sizeref": 308.115,
          "symbol": "circle"
         },
         "mode": "markers",
         "name": "France",
         "showlegend": true,
         "type": "scattergeo"
        },
        {
         "geo": "geo",
         "hovertemplate": "company_location=%{location}<br>salary_in_usd=%{marker.size}<extra></extra>",
         "legendgroup": "Germany",
         "locationmode": "country names",
         "locations": [
          "Germany"
         ],
         "marker": {
          "color": "#00cc96",
          "size": [
           78966
          ],
          "sizemode": "area",
          "sizeref": 308.115,
          "symbol": "circle"
         },
         "mode": "markers",
         "name": "Germany",
         "showlegend": true,
         "type": "scattergeo"
        },
        {
         "geo": "geo",
         "hovertemplate": "company_location=%{location}<br>salary_in_usd=%{marker.size}<extra></extra>",
         "legendgroup": "Greece",
         "locationmode": "country names",
         "locations": [
          "Greece"
         ],
         "marker": {
          "color": "#ab63fa",
          "size": [
           53140
          ],
          "sizemode": "area",
          "sizeref": 308.115,
          "symbol": "circle"
         },
         "mode": "markers",
         "name": "Greece",
         "showlegend": true,
         "type": "scattergeo"
        },
        {
         "geo": "geo",
         "hovertemplate": "company_location=%{location}<br>salary_in_usd=%{marker.size}<extra></extra>",
         "legendgroup": "India",
         "locationmode": "country names",
         "locations": [
          "India"
         ],
         "marker": {
          "color": "#FFA15A",
          "size": [
           29873
          ],
          "sizemode": "area",
          "sizeref": 308.115,
          "symbol": "circle"
         },
         "mode": "markers",
         "name": "India",
         "showlegend": true,
         "type": "scattergeo"
        },
        {
         "geo": "geo",
         "hovertemplate": "company_location=%{location}<br>salary_in_usd=%{marker.size}<extra></extra>",
         "legendgroup": "Japan",
         "locationmode": "country names",
         "locations": [
          "Japan"
         ],
         "marker": {
          "color": "#19d3f3",
          "size": [
           94563
          ],
          "sizemode": "area",
          "sizeref": 308.115,
          "symbol": "circle"
         },
         "mode": "markers",
         "name": "Japan",
         "showlegend": true,
         "type": "scattergeo"
        },
        {
         "geo": "geo",
         "hovertemplate": "company_location=%{location}<br>salary_in_usd=%{marker.size}<extra></extra>",
         "legendgroup": "Spain",
         "locationmode": "country names",
         "locations": [
          "Spain"
         ],
         "marker": {
          "color": "#FF6692",
          "size": [
           50667
          ],
          "sizemode": "area",
          "sizeref": 308.115,
          "symbol": "circle"
         },
         "mode": "markers",
         "name": "Spain",
         "showlegend": true,
         "type": "scattergeo"
        },
        {
         "geo": "geo",
         "hovertemplate": "company_location=%{location}<br>salary_in_usd=%{marker.size}<extra></extra>",
         "legendgroup": "United Kingdom",
         "locationmode": "country names",
         "locations": [
          "United Kingdom"
         ],
         "marker": {
          "color": "#B6E880",
          "size": [
           79734
          ],
          "sizemode": "area",
          "sizeref": 308.115,
          "symbol": "circle"
         },
         "mode": "markers",
         "name": "United Kingdom",
         "showlegend": true,
         "type": "scattergeo"
        },
        {
         "geo": "geo",
         "hovertemplate": "company_location=%{location}<br>salary_in_usd=%{marker.size}<extra></extra>",
         "legendgroup": "United States",
         "locationmode": "country names",
         "locations": [
          "United States"
         ],
         "marker": {
          "color": "#FF97FF",
          "size": [
           123246
          ],
          "sizemode": "area",
          "sizeref": 308.115,
          "symbol": "circle"
         },
         "mode": "markers",
         "name": "United States",
         "showlegend": true,
         "type": "scattergeo"
        }
       ],
       "layout": {
        "geo": {
         "center": {},
         "domain": {
          "x": [
           0,
           1
          ],
          "y": [
           0,
           1
          ]
         },
         "projection": {
          "type": "natural earth"
         }
        },
        "legend": {
         "itemsizing": "constant",
         "title": {
          "text": "company_location"
         },
         "tracegroupgap": 0
        },
        "template": {
         "data": {
          "bar": [
           {
            "error_x": {
             "color": "#2a3f5f"
            },
            "error_y": {
             "color": "#2a3f5f"
            },
            "marker": {
             "line": {
              "color": "#E5ECF6",
              "width": 0.5
             },
             "pattern": {
              "fillmode": "overlay",
              "size": 10,
              "solidity": 0.2
             }
            },
            "type": "bar"
           }
          ],
          "barpolar": [
           {
            "marker": {
             "line": {
              "color": "#E5ECF6",
              "width": 0.5
             },
             "pattern": {
              "fillmode": "overlay",
              "size": 10,
              "solidity": 0.2
             }
            },
            "type": "barpolar"
           }
          ],
          "carpet": [
           {
            "aaxis": {
             "endlinecolor": "#2a3f5f",
             "gridcolor": "white",
             "linecolor": "white",
             "minorgridcolor": "white",
             "startlinecolor": "#2a3f5f"
            },
            "baxis": {
             "endlinecolor": "#2a3f5f",
             "gridcolor": "white",
             "linecolor": "white",
             "minorgridcolor": "white",
             "startlinecolor": "#2a3f5f"
            },
            "type": "carpet"
           }
          ],
          "choropleth": [
           {
            "colorbar": {
             "outlinewidth": 0,
             "ticks": ""
            },
            "type": "choropleth"
           }
          ],
          "contour": [
           {
            "colorbar": {
             "outlinewidth": 0,
             "ticks": ""
            },
            "colorscale": [
             [
              0,
              "#0d0887"
             ],
             [
              0.1111111111111111,
              "#46039f"
             ],
             [
              0.2222222222222222,
              "#7201a8"
             ],
             [
              0.3333333333333333,
              "#9c179e"
             ],
             [
              0.4444444444444444,
              "#bd3786"
             ],
             [
              0.5555555555555556,
              "#d8576b"
             ],
             [
              0.6666666666666666,
              "#ed7953"
             ],
             [
              0.7777777777777778,
              "#fb9f3a"
             ],
             [
              0.8888888888888888,
              "#fdca26"
             ],
             [
              1,
              "#f0f921"
             ]
            ],
            "type": "contour"
           }
          ],
          "contourcarpet": [
           {
            "colorbar": {
             "outlinewidth": 0,
             "ticks": ""
            },
            "type": "contourcarpet"
           }
          ],
          "heatmap": [
           {
            "colorbar": {
             "outlinewidth": 0,
             "ticks": ""
            },
            "colorscale": [
             [
              0,
              "#0d0887"
             ],
             [
              0.1111111111111111,
              "#46039f"
             ],
             [
              0.2222222222222222,
              "#7201a8"
             ],
             [
              0.3333333333333333,
              "#9c179e"
             ],
             [
              0.4444444444444444,
              "#bd3786"
             ],
             [
              0.5555555555555556,
              "#d8576b"
             ],
             [
              0.6666666666666666,
              "#ed7953"
             ],
             [
              0.7777777777777778,
              "#fb9f3a"
             ],
             [
              0.8888888888888888,
              "#fdca26"
             ],
             [
              1,
              "#f0f921"
             ]
            ],
            "type": "heatmap"
           }
          ],
          "heatmapgl": [
           {
            "colorbar": {
             "outlinewidth": 0,
             "ticks": ""
            },
            "colorscale": [
             [
              0,
              "#0d0887"
             ],
             [
              0.1111111111111111,
              "#46039f"
             ],
             [
              0.2222222222222222,
              "#7201a8"
             ],
             [
              0.3333333333333333,
              "#9c179e"
             ],
             [
              0.4444444444444444,
              "#bd3786"
             ],
             [
              0.5555555555555556,
              "#d8576b"
             ],
             [
              0.6666666666666666,
              "#ed7953"
             ],
             [
              0.7777777777777778,
              "#fb9f3a"
             ],
             [
              0.8888888888888888,
              "#fdca26"
             ],
             [
              1,
              "#f0f921"
             ]
            ],
            "type": "heatmapgl"
           }
          ],
          "histogram": [
           {
            "marker": {
             "pattern": {
              "fillmode": "overlay",
              "size": 10,
              "solidity": 0.2
             }
            },
            "type": "histogram"
           }
          ],
          "histogram2d": [
           {
            "colorbar": {
             "outlinewidth": 0,
             "ticks": ""
            },
            "colorscale": [
             [
              0,
              "#0d0887"
             ],
             [
              0.1111111111111111,
              "#46039f"
             ],
             [
              0.2222222222222222,
              "#7201a8"
             ],
             [
              0.3333333333333333,
              "#9c179e"
             ],
             [
              0.4444444444444444,
              "#bd3786"
             ],
             [
              0.5555555555555556,
              "#d8576b"
             ],
             [
              0.6666666666666666,
              "#ed7953"
             ],
             [
              0.7777777777777778,
              "#fb9f3a"
             ],
             [
              0.8888888888888888,
              "#fdca26"
             ],
             [
              1,
              "#f0f921"
             ]
            ],
            "type": "histogram2d"
           }
          ],
          "histogram2dcontour": [
           {
            "colorbar": {
             "outlinewidth": 0,
             "ticks": ""
            },
            "colorscale": [
             [
              0,
              "#0d0887"
             ],
             [
              0.1111111111111111,
              "#46039f"
             ],
             [
              0.2222222222222222,
              "#7201a8"
             ],
             [
              0.3333333333333333,
              "#9c179e"
             ],
             [
              0.4444444444444444,
              "#bd3786"
             ],
             [
              0.5555555555555556,
              "#d8576b"
             ],
             [
              0.6666666666666666,
              "#ed7953"
             ],
             [
              0.7777777777777778,
              "#fb9f3a"
             ],
             [
              0.8888888888888888,
              "#fdca26"
             ],
             [
              1,
              "#f0f921"
             ]
            ],
            "type": "histogram2dcontour"
           }
          ],
          "mesh3d": [
           {
            "colorbar": {
             "outlinewidth": 0,
             "ticks": ""
            },
            "type": "mesh3d"
           }
          ],
          "parcoords": [
           {
            "line": {
             "colorbar": {
              "outlinewidth": 0,
              "ticks": ""
             }
            },
            "type": "parcoords"
           }
          ],
          "pie": [
           {
            "automargin": true,
            "type": "pie"
           }
          ],
          "scatter": [
           {
            "fillpattern": {
             "fillmode": "overlay",
             "size": 10,
             "solidity": 0.2
            },
            "type": "scatter"
           }
          ],
          "scatter3d": [
           {
            "line": {
             "colorbar": {
              "outlinewidth": 0,
              "ticks": ""
             }
            },
            "marker": {
             "colorbar": {
              "outlinewidth": 0,
              "ticks": ""
             }
            },
            "type": "scatter3d"
           }
          ],
          "scattercarpet": [
           {
            "marker": {
             "colorbar": {
              "outlinewidth": 0,
              "ticks": ""
             }
            },
            "type": "scattercarpet"
           }
          ],
          "scattergeo": [
           {
            "marker": {
             "colorbar": {
              "outlinewidth": 0,
              "ticks": ""
             }
            },
            "type": "scattergeo"
           }
          ],
          "scattergl": [
           {
            "marker": {
             "colorbar": {
              "outlinewidth": 0,
              "ticks": ""
             }
            },
            "type": "scattergl"
           }
          ],
          "scattermapbox": [
           {
            "marker": {
             "colorbar": {
              "outlinewidth": 0,
              "ticks": ""
             }
            },
            "type": "scattermapbox"
           }
          ],
          "scatterpolar": [
           {
            "marker": {
             "colorbar": {
              "outlinewidth": 0,
              "ticks": ""
             }
            },
            "type": "scatterpolar"
           }
          ],
          "scatterpolargl": [
           {
            "marker": {
             "colorbar": {
              "outlinewidth": 0,
              "ticks": ""
             }
            },
            "type": "scatterpolargl"
           }
          ],
          "scatterternary": [
           {
            "marker": {
             "colorbar": {
              "outlinewidth": 0,
              "ticks": ""
             }
            },
            "type": "scatterternary"
           }
          ],
          "surface": [
           {
            "colorbar": {
             "outlinewidth": 0,
             "ticks": ""
            },
            "colorscale": [
             [
              0,
              "#0d0887"
             ],
             [
              0.1111111111111111,
              "#46039f"
             ],
             [
              0.2222222222222222,
              "#7201a8"
             ],
             [
              0.3333333333333333,
              "#9c179e"
             ],
             [
              0.4444444444444444,
              "#bd3786"
             ],
             [
              0.5555555555555556,
              "#d8576b"
             ],
             [
              0.6666666666666666,
              "#ed7953"
             ],
             [
              0.7777777777777778,
              "#fb9f3a"
             ],
             [
              0.8888888888888888,
              "#fdca26"
             ],
             [
              1,
              "#f0f921"
             ]
            ],
            "type": "surface"
           }
          ],
          "table": [
           {
            "cells": {
             "fill": {
              "color": "#EBF0F8"
             },
             "line": {
              "color": "white"
             }
            },
            "header": {
             "fill": {
              "color": "#C8D4E3"
             },
             "line": {
              "color": "white"
             }
            },
            "type": "table"
           }
          ]
         },
         "layout": {
          "annotationdefaults": {
           "arrowcolor": "#2a3f5f",
           "arrowhead": 0,
           "arrowwidth": 1
          },
          "autotypenumbers": "strict",
          "coloraxis": {
           "colorbar": {
            "outlinewidth": 0,
            "ticks": ""
           }
          },
          "colorscale": {
           "diverging": [
            [
             0,
             "#8e0152"
            ],
            [
             0.1,
             "#c51b7d"
            ],
            [
             0.2,
             "#de77ae"
            ],
            [
             0.3,
             "#f1b6da"
            ],
            [
             0.4,
             "#fde0ef"
            ],
            [
             0.5,
             "#f7f7f7"
            ],
            [
             0.6,
             "#e6f5d0"
            ],
            [
             0.7,
             "#b8e186"
            ],
            [
             0.8,
             "#7fbc41"
            ],
            [
             0.9,
             "#4d9221"
            ],
            [
             1,
             "#276419"
            ]
           ],
           "sequential": [
            [
             0,
             "#0d0887"
            ],
            [
             0.1111111111111111,
             "#46039f"
            ],
            [
             0.2222222222222222,
             "#7201a8"
            ],
            [
             0.3333333333333333,
             "#9c179e"
            ],
            [
             0.4444444444444444,
             "#bd3786"
            ],
            [
             0.5555555555555556,
             "#d8576b"
            ],
            [
             0.6666666666666666,
             "#ed7953"
            ],
            [
             0.7777777777777778,
             "#fb9f3a"
            ],
            [
             0.8888888888888888,
             "#fdca26"
            ],
            [
             1,
             "#f0f921"
            ]
           ],
           "sequentialminus": [
            [
             0,
             "#0d0887"
            ],
            [
             0.1111111111111111,
             "#46039f"
            ],
            [
             0.2222222222222222,
             "#7201a8"
            ],
            [
             0.3333333333333333,
             "#9c179e"
            ],
            [
             0.4444444444444444,
             "#bd3786"
            ],
            [
             0.5555555555555556,
             "#d8576b"
            ],
            [
             0.6666666666666666,
             "#ed7953"
            ],
            [
             0.7777777777777778,
             "#fb9f3a"
            ],
            [
             0.8888888888888888,
             "#fdca26"
            ],
            [
             1,
             "#f0f921"
            ]
           ]
          },
          "colorway": [
           "#636efa",
           "#EF553B",
           "#00cc96",
           "#ab63fa",
           "#FFA15A",
           "#19d3f3",
           "#FF6692",
           "#B6E880",
           "#FF97FF",
           "#FECB52"
          ],
          "font": {
           "color": "#2a3f5f"
          },
          "geo": {
           "bgcolor": "white",
           "lakecolor": "white",
           "landcolor": "#E5ECF6",
           "showlakes": true,
           "showland": true,
           "subunitcolor": "white"
          },
          "hoverlabel": {
           "align": "left"
          },
          "hovermode": "closest",
          "mapbox": {
           "style": "light"
          },
          "paper_bgcolor": "white",
          "plot_bgcolor": "#E5ECF6",
          "polar": {
           "angularaxis": {
            "gridcolor": "white",
            "linecolor": "white",
            "ticks": ""
           },
           "bgcolor": "#E5ECF6",
           "radialaxis": {
            "gridcolor": "white",
            "linecolor": "white",
            "ticks": ""
           }
          },
          "scene": {
           "xaxis": {
            "backgroundcolor": "#E5ECF6",
            "gridcolor": "white",
            "gridwidth": 2,
            "linecolor": "white",
            "showbackground": true,
            "ticks": "",
            "zerolinecolor": "white"
           },
           "yaxis": {
            "backgroundcolor": "#E5ECF6",
            "gridcolor": "white",
            "gridwidth": 2,
            "linecolor": "white",
            "showbackground": true,
            "ticks": "",
            "zerolinecolor": "white"
           },
           "zaxis": {
            "backgroundcolor": "#E5ECF6",
            "gridcolor": "white",
            "gridwidth": 2,
            "linecolor": "white",
            "showbackground": true,
            "ticks": "",
            "zerolinecolor": "white"
           }
          },
          "shapedefaults": {
           "line": {
            "color": "#2a3f5f"
           }
          },
          "ternary": {
           "aaxis": {
            "gridcolor": "white",
            "linecolor": "white",
            "ticks": ""
           },
           "baxis": {
            "gridcolor": "white",
            "linecolor": "white",
            "ticks": ""
           },
           "bgcolor": "#E5ECF6",
           "caxis": {
            "gridcolor": "white",
            "linecolor": "white",
            "ticks": ""
           }
          },
          "title": {
           "x": 0.05
          },
          "xaxis": {
           "automargin": true,
           "gridcolor": "white",
           "linecolor": "white",
           "ticks": "",
           "title": {
            "standoff": 15
           },
           "zerolinecolor": "white",
           "zerolinewidth": 2
          },
          "yaxis": {
           "automargin": true,
           "gridcolor": "white",
           "linecolor": "white",
           "ticks": "",
           "title": {
            "standoff": 15
           },
           "zerolinecolor": "white",
           "zerolinewidth": 2
          }
         }
        },
        "title": {
         "text": "Average Salaries Per Country"
        }
       }
      },
      "text/html": [
       "<div>                            <div id=\"f32aa97c-a121-4999-a270-409b43396e8b\" class=\"plotly-graph-div\" style=\"height:525px; width:100%;\"></div>            <script type=\"text/javascript\">                require([\"plotly\"], function(Plotly) {                    window.PLOTLYENV=window.PLOTLYENV || {};                                    if (document.getElementById(\"f32aa97c-a121-4999-a270-409b43396e8b\")) {                    Plotly.newPlot(                        \"f32aa97c-a121-4999-a270-409b43396e8b\",                        [{\"geo\":\"geo\",\"hovertemplate\":\"company_location=%{location}<br>salary_in_usd=%{marker.size}<extra></extra>\",\"legendgroup\":\"Canada\",\"locationmode\":\"country names\",\"locations\":[\"Canada\"],\"marker\":{\"color\":\"#636efa\",\"size\":[97488],\"sizemode\":\"area\",\"sizeref\":308.115,\"symbol\":\"circle\"},\"mode\":\"markers\",\"name\":\"Canada\",\"showlegend\":true,\"type\":\"scattergeo\"},{\"geo\":\"geo\",\"hovertemplate\":\"company_location=%{location}<br>salary_in_usd=%{marker.size}<extra></extra>\",\"legendgroup\":\"France\",\"locationmode\":\"country names\",\"locations\":[\"France\"],\"marker\":{\"color\":\"#EF553B\",\"size\":[63970],\"sizemode\":\"area\",\"sizeref\":308.115,\"symbol\":\"circle\"},\"mode\":\"markers\",\"name\":\"France\",\"showlegend\":true,\"type\":\"scattergeo\"},{\"geo\":\"geo\",\"hovertemplate\":\"company_location=%{location}<br>salary_in_usd=%{marker.size}<extra></extra>\",\"legendgroup\":\"Germany\",\"locationmode\":\"country names\",\"locations\":[\"Germany\"],\"marker\":{\"color\":\"#00cc96\",\"size\":[78966],\"sizemode\":\"area\",\"sizeref\":308.115,\"symbol\":\"circle\"},\"mode\":\"markers\",\"name\":\"Germany\",\"showlegend\":true,\"type\":\"scattergeo\"},{\"geo\":\"geo\",\"hovertemplate\":\"company_location=%{location}<br>salary_in_usd=%{marker.size}<extra></extra>\",\"legendgroup\":\"Greece\",\"locationmode\":\"country names\",\"locations\":[\"Greece\"],\"marker\":{\"color\":\"#ab63fa\",\"size\":[53140],\"sizemode\":\"area\",\"sizeref\":308.115,\"symbol\":\"circle\"},\"mode\":\"markers\",\"name\":\"Greece\",\"showlegend\":true,\"type\":\"scattergeo\"},{\"geo\":\"geo\",\"hovertemplate\":\"company_location=%{location}<br>salary_in_usd=%{marker.size}<extra></extra>\",\"legendgroup\":\"India\",\"locationmode\":\"country names\",\"locations\":[\"India\"],\"marker\":{\"color\":\"#FFA15A\",\"size\":[29873],\"sizemode\":\"area\",\"sizeref\":308.115,\"symbol\":\"circle\"},\"mode\":\"markers\",\"name\":\"India\",\"showlegend\":true,\"type\":\"scattergeo\"},{\"geo\":\"geo\",\"hovertemplate\":\"company_location=%{location}<br>salary_in_usd=%{marker.size}<extra></extra>\",\"legendgroup\":\"Japan\",\"locationmode\":\"country names\",\"locations\":[\"Japan\"],\"marker\":{\"color\":\"#19d3f3\",\"size\":[94563],\"sizemode\":\"area\",\"sizeref\":308.115,\"symbol\":\"circle\"},\"mode\":\"markers\",\"name\":\"Japan\",\"showlegend\":true,\"type\":\"scattergeo\"},{\"geo\":\"geo\",\"hovertemplate\":\"company_location=%{location}<br>salary_in_usd=%{marker.size}<extra></extra>\",\"legendgroup\":\"Spain\",\"locationmode\":\"country names\",\"locations\":[\"Spain\"],\"marker\":{\"color\":\"#FF6692\",\"size\":[50667],\"sizemode\":\"area\",\"sizeref\":308.115,\"symbol\":\"circle\"},\"mode\":\"markers\",\"name\":\"Spain\",\"showlegend\":true,\"type\":\"scattergeo\"},{\"geo\":\"geo\",\"hovertemplate\":\"company_location=%{location}<br>salary_in_usd=%{marker.size}<extra></extra>\",\"legendgroup\":\"United Kingdom\",\"locationmode\":\"country names\",\"locations\":[\"United Kingdom\"],\"marker\":{\"color\":\"#B6E880\",\"size\":[79734],\"sizemode\":\"area\",\"sizeref\":308.115,\"symbol\":\"circle\"},\"mode\":\"markers\",\"name\":\"United Kingdom\",\"showlegend\":true,\"type\":\"scattergeo\"},{\"geo\":\"geo\",\"hovertemplate\":\"company_location=%{location}<br>salary_in_usd=%{marker.size}<extra></extra>\",\"legendgroup\":\"United States\",\"locationmode\":\"country names\",\"locations\":[\"United States\"],\"marker\":{\"color\":\"#FF97FF\",\"size\":[123246],\"sizemode\":\"area\",\"sizeref\":308.115,\"symbol\":\"circle\"},\"mode\":\"markers\",\"name\":\"United States\",\"showlegend\":true,\"type\":\"scattergeo\"}],                        {\"template\":{\"data\":{\"histogram2dcontour\":[{\"type\":\"histogram2dcontour\",\"colorbar\":{\"outlinewidth\":0,\"ticks\":\"\"},\"colorscale\":[[0.0,\"#0d0887\"],[0.1111111111111111,\"#46039f\"],[0.2222222222222222,\"#7201a8\"],[0.3333333333333333,\"#9c179e\"],[0.4444444444444444,\"#bd3786\"],[0.5555555555555556,\"#d8576b\"],[0.6666666666666666,\"#ed7953\"],[0.7777777777777778,\"#fb9f3a\"],[0.8888888888888888,\"#fdca26\"],[1.0,\"#f0f921\"]]}],\"choropleth\":[{\"type\":\"choropleth\",\"colorbar\":{\"outlinewidth\":0,\"ticks\":\"\"}}],\"histogram2d\":[{\"type\":\"histogram2d\",\"colorbar\":{\"outlinewidth\":0,\"ticks\":\"\"},\"colorscale\":[[0.0,\"#0d0887\"],[0.1111111111111111,\"#46039f\"],[0.2222222222222222,\"#7201a8\"],[0.3333333333333333,\"#9c179e\"],[0.4444444444444444,\"#bd3786\"],[0.5555555555555556,\"#d8576b\"],[0.6666666666666666,\"#ed7953\"],[0.7777777777777778,\"#fb9f3a\"],[0.8888888888888888,\"#fdca26\"],[1.0,\"#f0f921\"]]}],\"heatmap\":[{\"type\":\"heatmap\",\"colorbar\":{\"outlinewidth\":0,\"ticks\":\"\"},\"colorscale\":[[0.0,\"#0d0887\"],[0.1111111111111111,\"#46039f\"],[0.2222222222222222,\"#7201a8\"],[0.3333333333333333,\"#9c179e\"],[0.4444444444444444,\"#bd3786\"],[0.5555555555555556,\"#d8576b\"],[0.6666666666666666,\"#ed7953\"],[0.7777777777777778,\"#fb9f3a\"],[0.8888888888888888,\"#fdca26\"],[1.0,\"#f0f921\"]]}],\"heatmapgl\":[{\"type\":\"heatmapgl\",\"colorbar\":{\"outlinewidth\":0,\"ticks\":\"\"},\"colorscale\":[[0.0,\"#0d0887\"],[0.1111111111111111,\"#46039f\"],[0.2222222222222222,\"#7201a8\"],[0.3333333333333333,\"#9c179e\"],[0.4444444444444444,\"#bd3786\"],[0.5555555555555556,\"#d8576b\"],[0.6666666666666666,\"#ed7953\"],[0.7777777777777778,\"#fb9f3a\"],[0.8888888888888888,\"#fdca26\"],[1.0,\"#f0f921\"]]}],\"contourcarpet\":[{\"type\":\"contourcarpet\",\"colorbar\":{\"outlinewidth\":0,\"ticks\":\"\"}}],\"contour\":[{\"type\":\"contour\",\"colorbar\":{\"outlinewidth\":0,\"ticks\":\"\"},\"colorscale\":[[0.0,\"#0d0887\"],[0.1111111111111111,\"#46039f\"],[0.2222222222222222,\"#7201a8\"],[0.3333333333333333,\"#9c179e\"],[0.4444444444444444,\"#bd3786\"],[0.5555555555555556,\"#d8576b\"],[0.6666666666666666,\"#ed7953\"],[0.7777777777777778,\"#fb9f3a\"],[0.8888888888888888,\"#fdca26\"],[1.0,\"#f0f921\"]]}],\"surface\":[{\"type\":\"surface\",\"colorbar\":{\"outlinewidth\":0,\"ticks\":\"\"},\"colorscale\":[[0.0,\"#0d0887\"],[0.1111111111111111,\"#46039f\"],[0.2222222222222222,\"#7201a8\"],[0.3333333333333333,\"#9c179e\"],[0.4444444444444444,\"#bd3786\"],[0.5555555555555556,\"#d8576b\"],[0.6666666666666666,\"#ed7953\"],[0.7777777777777778,\"#fb9f3a\"],[0.8888888888888888,\"#fdca26\"],[1.0,\"#f0f921\"]]}],\"mesh3d\":[{\"type\":\"mesh3d\",\"colorbar\":{\"outlinewidth\":0,\"ticks\":\"\"}}],\"scatter\":[{\"fillpattern\":{\"fillmode\":\"overlay\",\"size\":10,\"solidity\":0.2},\"type\":\"scatter\"}],\"parcoords\":[{\"type\":\"parcoords\",\"line\":{\"colorbar\":{\"outlinewidth\":0,\"ticks\":\"\"}}}],\"scatterpolargl\":[{\"type\":\"scatterpolargl\",\"marker\":{\"colorbar\":{\"outlinewidth\":0,\"ticks\":\"\"}}}],\"bar\":[{\"error_x\":{\"color\":\"#2a3f5f\"},\"error_y\":{\"color\":\"#2a3f5f\"},\"marker\":{\"line\":{\"color\":\"#E5ECF6\",\"width\":0.5},\"pattern\":{\"fillmode\":\"overlay\",\"size\":10,\"solidity\":0.2}},\"type\":\"bar\"}],\"scattergeo\":[{\"type\":\"scattergeo\",\"marker\":{\"colorbar\":{\"outlinewidth\":0,\"ticks\":\"\"}}}],\"scatterpolar\":[{\"type\":\"scatterpolar\",\"marker\":{\"colorbar\":{\"outlinewidth\":0,\"ticks\":\"\"}}}],\"histogram\":[{\"marker\":{\"pattern\":{\"fillmode\":\"overlay\",\"size\":10,\"solidity\":0.2}},\"type\":\"histogram\"}],\"scattergl\":[{\"type\":\"scattergl\",\"marker\":{\"colorbar\":{\"outlinewidth\":0,\"ticks\":\"\"}}}],\"scatter3d\":[{\"type\":\"scatter3d\",\"line\":{\"colorbar\":{\"outlinewidth\":0,\"ticks\":\"\"}},\"marker\":{\"colorbar\":{\"outlinewidth\":0,\"ticks\":\"\"}}}],\"scattermapbox\":[{\"type\":\"scattermapbox\",\"marker\":{\"colorbar\":{\"outlinewidth\":0,\"ticks\":\"\"}}}],\"scatterternary\":[{\"type\":\"scatterternary\",\"marker\":{\"colorbar\":{\"outlinewidth\":0,\"ticks\":\"\"}}}],\"scattercarpet\":[{\"type\":\"scattercarpet\",\"marker\":{\"colorbar\":{\"outlinewidth\":0,\"ticks\":\"\"}}}],\"carpet\":[{\"aaxis\":{\"endlinecolor\":\"#2a3f5f\",\"gridcolor\":\"white\",\"linecolor\":\"white\",\"minorgridcolor\":\"white\",\"startlinecolor\":\"#2a3f5f\"},\"baxis\":{\"endlinecolor\":\"#2a3f5f\",\"gridcolor\":\"white\",\"linecolor\":\"white\",\"minorgridcolor\":\"white\",\"startlinecolor\":\"#2a3f5f\"},\"type\":\"carpet\"}],\"table\":[{\"cells\":{\"fill\":{\"color\":\"#EBF0F8\"},\"line\":{\"color\":\"white\"}},\"header\":{\"fill\":{\"color\":\"#C8D4E3\"},\"line\":{\"color\":\"white\"}},\"type\":\"table\"}],\"barpolar\":[{\"marker\":{\"line\":{\"color\":\"#E5ECF6\",\"width\":0.5},\"pattern\":{\"fillmode\":\"overlay\",\"size\":10,\"solidity\":0.2}},\"type\":\"barpolar\"}],\"pie\":[{\"automargin\":true,\"type\":\"pie\"}]},\"layout\":{\"autotypenumbers\":\"strict\",\"colorway\":[\"#636efa\",\"#EF553B\",\"#00cc96\",\"#ab63fa\",\"#FFA15A\",\"#19d3f3\",\"#FF6692\",\"#B6E880\",\"#FF97FF\",\"#FECB52\"],\"font\":{\"color\":\"#2a3f5f\"},\"hovermode\":\"closest\",\"hoverlabel\":{\"align\":\"left\"},\"paper_bgcolor\":\"white\",\"plot_bgcolor\":\"#E5ECF6\",\"polar\":{\"bgcolor\":\"#E5ECF6\",\"angularaxis\":{\"gridcolor\":\"white\",\"linecolor\":\"white\",\"ticks\":\"\"},\"radialaxis\":{\"gridcolor\":\"white\",\"linecolor\":\"white\",\"ticks\":\"\"}},\"ternary\":{\"bgcolor\":\"#E5ECF6\",\"aaxis\":{\"gridcolor\":\"white\",\"linecolor\":\"white\",\"ticks\":\"\"},\"baxis\":{\"gridcolor\":\"white\",\"linecolor\":\"white\",\"ticks\":\"\"},\"caxis\":{\"gridcolor\":\"white\",\"linecolor\":\"white\",\"ticks\":\"\"}},\"coloraxis\":{\"colorbar\":{\"outlinewidth\":0,\"ticks\":\"\"}},\"colorscale\":{\"sequential\":[[0.0,\"#0d0887\"],[0.1111111111111111,\"#46039f\"],[0.2222222222222222,\"#7201a8\"],[0.3333333333333333,\"#9c179e\"],[0.4444444444444444,\"#bd3786\"],[0.5555555555555556,\"#d8576b\"],[0.6666666666666666,\"#ed7953\"],[0.7777777777777778,\"#fb9f3a\"],[0.8888888888888888,\"#fdca26\"],[1.0,\"#f0f921\"]],\"sequentialminus\":[[0.0,\"#0d0887\"],[0.1111111111111111,\"#46039f\"],[0.2222222222222222,\"#7201a8\"],[0.3333333333333333,\"#9c179e\"],[0.4444444444444444,\"#bd3786\"],[0.5555555555555556,\"#d8576b\"],[0.6666666666666666,\"#ed7953\"],[0.7777777777777778,\"#fb9f3a\"],[0.8888888888888888,\"#fdca26\"],[1.0,\"#f0f921\"]],\"diverging\":[[0,\"#8e0152\"],[0.1,\"#c51b7d\"],[0.2,\"#de77ae\"],[0.3,\"#f1b6da\"],[0.4,\"#fde0ef\"],[0.5,\"#f7f7f7\"],[0.6,\"#e6f5d0\"],[0.7,\"#b8e186\"],[0.8,\"#7fbc41\"],[0.9,\"#4d9221\"],[1,\"#276419\"]]},\"xaxis\":{\"gridcolor\":\"white\",\"linecolor\":\"white\",\"ticks\":\"\",\"title\":{\"standoff\":15},\"zerolinecolor\":\"white\",\"automargin\":true,\"zerolinewidth\":2},\"yaxis\":{\"gridcolor\":\"white\",\"linecolor\":\"white\",\"ticks\":\"\",\"title\":{\"standoff\":15},\"zerolinecolor\":\"white\",\"automargin\":true,\"zerolinewidth\":2},\"scene\":{\"xaxis\":{\"backgroundcolor\":\"#E5ECF6\",\"gridcolor\":\"white\",\"linecolor\":\"white\",\"showbackground\":true,\"ticks\":\"\",\"zerolinecolor\":\"white\",\"gridwidth\":2},\"yaxis\":{\"backgroundcolor\":\"#E5ECF6\",\"gridcolor\":\"white\",\"linecolor\":\"white\",\"showbackground\":true,\"ticks\":\"\",\"zerolinecolor\":\"white\",\"gridwidth\":2},\"zaxis\":{\"backgroundcolor\":\"#E5ECF6\",\"gridcolor\":\"white\",\"linecolor\":\"white\",\"showbackground\":true,\"ticks\":\"\",\"zerolinecolor\":\"white\",\"gridwidth\":2}},\"shapedefaults\":{\"line\":{\"color\":\"#2a3f5f\"}},\"annotationdefaults\":{\"arrowcolor\":\"#2a3f5f\",\"arrowhead\":0,\"arrowwidth\":1},\"geo\":{\"bgcolor\":\"white\",\"landcolor\":\"#E5ECF6\",\"subunitcolor\":\"white\",\"showland\":true,\"showlakes\":true,\"lakecolor\":\"white\"},\"title\":{\"x\":0.05},\"mapbox\":{\"style\":\"light\"}}},\"geo\":{\"domain\":{\"x\":[0.0,1.0],\"y\":[0.0,1.0]},\"projection\":{\"type\":\"natural earth\"},\"center\":{}},\"legend\":{\"title\":{\"text\":\"company_location\"},\"tracegroupgap\":0,\"itemsizing\":\"constant\"},\"title\":{\"text\":\"Average Salaries Per Country\"}},                        {\"responsive\": true}                    ).then(function(){\n",
       "                            \n",
       "var gd = document.getElementById('f32aa97c-a121-4999-a270-409b43396e8b');\n",
       "var x = new MutationObserver(function (mutations, observer) {{\n",
       "        var display = window.getComputedStyle(gd).display;\n",
       "        if (!display || display === 'none') {{\n",
       "            console.log([gd, 'removed!']);\n",
       "            Plotly.purge(gd);\n",
       "            observer.disconnect();\n",
       "        }}\n",
       "}});\n",
       "\n",
       "// Listen for the removal of the full notebook cells\n",
       "var notebookContainer = gd.closest('#notebook-container');\n",
       "if (notebookContainer) {{\n",
       "    x.observe(notebookContainer, {childList: true});\n",
       "}}\n",
       "\n",
       "// Listen for the clearing of the current output cell\n",
       "var outputEl = gd.closest('.output');\n",
       "if (outputEl) {{\n",
       "    x.observe(outputEl, {childList: true});\n",
       "}}\n",
       "\n",
       "                        })                };                });            </script>        </div>"
      ]
     },
     "metadata": {},
     "output_type": "display_data"
    }
   ],
   "source": [
    "# sum of salaries per countries\n",
    "# should include all countries before removing them\n",
    "# check if the map is still interactable when imported\n",
    "# figure out a way to show values on screen\n",
    "# save original data frame to show values\n",
    "# Will remain static for all selections\n",
    "\n",
    "fig = px.scatter_geo(df_salary_percountry, \n",
    "                     locations='company_location', \n",
    "                     size='salary_in_usd', \n",
    "                     locationmode='country names', \n",
    "                     color='company_location', \n",
    "                     title='Average Salaries Per Country',\n",
    "                    projection = 'natural earth')\n",
    "\n",
    "fig.show()"
   ]
  },
  {
   "cell_type": "code",
   "execution_count": 80,
   "id": "4a6a2b65",
   "metadata": {
    "scrolled": false
   },
   "outputs": [
    {
     "data": {
      "text/html": [
       "<div>\n",
       "<style scoped>\n",
       "    .dataframe tbody tr th:only-of-type {\n",
       "        vertical-align: middle;\n",
       "    }\n",
       "\n",
       "    .dataframe tbody tr th {\n",
       "        vertical-align: top;\n",
       "    }\n",
       "\n",
       "    .dataframe thead th {\n",
       "        text-align: right;\n",
       "    }\n",
       "</style>\n",
       "<table border=\"1\" class=\"dataframe\">\n",
       "  <thead>\n",
       "    <tr style=\"text-align: right;\">\n",
       "      <th></th>\n",
       "      <th>work_year</th>\n",
       "      <th>experience_level</th>\n",
       "      <th>employment_type</th>\n",
       "      <th>job_title</th>\n",
       "      <th>salary_in_usd</th>\n",
       "      <th>employee_residence</th>\n",
       "      <th>remote_ratio</th>\n",
       "      <th>company_location</th>\n",
       "      <th>company_size</th>\n",
       "      <th>formatted_salary</th>\n",
       "    </tr>\n",
       "  </thead>\n",
       "  <tbody>\n",
       "    <tr>\n",
       "      <th>0</th>\n",
       "      <td>2020</td>\n",
       "      <td>MI</td>\n",
       "      <td>FT</td>\n",
       "      <td>Data Scientist</td>\n",
       "      <td>79833</td>\n",
       "      <td>Germany</td>\n",
       "      <td>0</td>\n",
       "      <td>Germany</td>\n",
       "      <td>L</td>\n",
       "      <td>80K</td>\n",
       "    </tr>\n",
       "    <tr>\n",
       "      <th>4</th>\n",
       "      <td>2020</td>\n",
       "      <td>SE</td>\n",
       "      <td>FT</td>\n",
       "      <td>Machine Learning Engineer</td>\n",
       "      <td>150000</td>\n",
       "      <td>United States</td>\n",
       "      <td>50</td>\n",
       "      <td>United States</td>\n",
       "      <td>L</td>\n",
       "      <td>150K</td>\n",
       "    </tr>\n",
       "    <tr>\n",
       "      <th>5</th>\n",
       "      <td>2020</td>\n",
       "      <td>EN</td>\n",
       "      <td>FT</td>\n",
       "      <td>Data Analyst</td>\n",
       "      <td>72000</td>\n",
       "      <td>United States</td>\n",
       "      <td>100</td>\n",
       "      <td>United States</td>\n",
       "      <td>L</td>\n",
       "      <td>72K</td>\n",
       "    </tr>\n",
       "    <tr>\n",
       "      <th>10</th>\n",
       "      <td>2020</td>\n",
       "      <td>EN</td>\n",
       "      <td>FT</td>\n",
       "      <td>Data Scientist</td>\n",
       "      <td>51321</td>\n",
       "      <td>France</td>\n",
       "      <td>0</td>\n",
       "      <td>France</td>\n",
       "      <td>S</td>\n",
       "      <td>51K</td>\n",
       "    </tr>\n",
       "    <tr>\n",
       "      <th>11</th>\n",
       "      <td>2020</td>\n",
       "      <td>MI</td>\n",
       "      <td>FT</td>\n",
       "      <td>Data Scientist</td>\n",
       "      <td>40481</td>\n",
       "      <td>India</td>\n",
       "      <td>0</td>\n",
       "      <td>India</td>\n",
       "      <td>L</td>\n",
       "      <td>40K</td>\n",
       "    </tr>\n",
       "  </tbody>\n",
       "</table>\n",
       "</div>"
      ],
      "text/plain": [
       "    work_year experience_level employment_type                  job_title  \\\n",
       "0        2020               MI              FT             Data Scientist   \n",
       "4        2020               SE              FT  Machine Learning Engineer   \n",
       "5        2020               EN              FT               Data Analyst   \n",
       "10       2020               EN              FT             Data Scientist   \n",
       "11       2020               MI              FT             Data Scientist   \n",
       "\n",
       "    salary_in_usd employee_residence  remote_ratio company_location  \\\n",
       "0           79833            Germany             0          Germany   \n",
       "4          150000      United States            50    United States   \n",
       "5           72000      United States           100    United States   \n",
       "10          51321             France             0           France   \n",
       "11          40481              India             0            India   \n",
       "\n",
       "   company_size formatted_salary  \n",
       "0             L              80K  \n",
       "4             L             150K  \n",
       "5             L              72K  \n",
       "10            S              51K  \n",
       "11            L              40K  "
      ]
     },
     "execution_count": 80,
     "metadata": {},
     "output_type": "execute_result"
    }
   ],
   "source": [
    "df.head()"
   ]
  },
  {
   "cell_type": "markdown",
   "id": "721b1704",
   "metadata": {},
   "source": [
    "# Heatmap"
   ]
  },
  {
   "cell_type": "code",
   "execution_count": 81,
   "id": "9b3e01b6",
   "metadata": {
    "scrolled": true
   },
   "outputs": [
    {
     "name": "stderr",
     "output_type": "stream",
     "text": [
      "C:\\Users\\jjavi\\AppData\\Local\\Temp\\ipykernel_260\\1980408428.py:2: FutureWarning:\n",
      "\n",
      "The default value of numeric_only in DataFrameGroupBy.mean is deprecated. In a future version, numeric_only will default to False. Either specify numeric_only or select only columns which should be valid for the function.\n",
      "\n"
     ]
    },
    {
     "data": {
      "text/html": [
       "<div>\n",
       "<style scoped>\n",
       "    .dataframe tbody tr th:only-of-type {\n",
       "        vertical-align: middle;\n",
       "    }\n",
       "\n",
       "    .dataframe tbody tr th {\n",
       "        vertical-align: top;\n",
       "    }\n",
       "\n",
       "    .dataframe thead th {\n",
       "        text-align: right;\n",
       "    }\n",
       "</style>\n",
       "<table border=\"1\" class=\"dataframe\">\n",
       "  <thead>\n",
       "    <tr style=\"text-align: right;\">\n",
       "      <th></th>\n",
       "      <th>work_year</th>\n",
       "      <th>job_title</th>\n",
       "      <th>remote_ratio</th>\n",
       "    </tr>\n",
       "  </thead>\n",
       "  <tbody>\n",
       "    <tr>\n",
       "      <th>0</th>\n",
       "      <td>2020</td>\n",
       "      <td>Data Analyst</td>\n",
       "      <td>70.000</td>\n",
       "    </tr>\n",
       "    <tr>\n",
       "      <th>1</th>\n",
       "      <td>2020</td>\n",
       "      <td>Data Engineer</td>\n",
       "      <td>81.250</td>\n",
       "    </tr>\n",
       "    <tr>\n",
       "      <th>2</th>\n",
       "      <td>2020</td>\n",
       "      <td>Data Science Consultant</td>\n",
       "      <td>75.000</td>\n",
       "    </tr>\n",
       "    <tr>\n",
       "      <th>3</th>\n",
       "      <td>2020</td>\n",
       "      <td>Data Science Manager</td>\n",
       "      <td>100.000</td>\n",
       "    </tr>\n",
       "    <tr>\n",
       "      <th>4</th>\n",
       "      <td>2020</td>\n",
       "      <td>Data Scientist</td>\n",
       "      <td>59.375</td>\n",
       "    </tr>\n",
       "  </tbody>\n",
       "</table>\n",
       "</div>"
      ],
      "text/plain": [
       "   work_year                job_title  remote_ratio\n",
       "0       2020             Data Analyst        70.000\n",
       "1       2020            Data Engineer        81.250\n",
       "2       2020  Data Science Consultant        75.000\n",
       "3       2020     Data Science Manager       100.000\n",
       "4       2020           Data Scientist        59.375"
      ]
     },
     "execution_count": 81,
     "metadata": {},
     "output_type": "execute_result"
    }
   ],
   "source": [
    "# filtering dataframe\n",
    "df_heatmap = df.groupby(['work_year', 'job_title']).mean()['remote_ratio'].reset_index()\n",
    "df_heatmap.head()"
   ]
  },
  {
   "cell_type": "code",
   "execution_count": 82,
   "id": "2747478b",
   "metadata": {
    "scrolled": true
   },
   "outputs": [
    {
     "data": {
      "text/html": [
       "<div>\n",
       "<style scoped>\n",
       "    .dataframe tbody tr th:only-of-type {\n",
       "        vertical-align: middle;\n",
       "    }\n",
       "\n",
       "    .dataframe tbody tr th {\n",
       "        vertical-align: top;\n",
       "    }\n",
       "\n",
       "    .dataframe thead th {\n",
       "        text-align: right;\n",
       "    }\n",
       "</style>\n",
       "<table border=\"1\" class=\"dataframe\">\n",
       "  <thead>\n",
       "    <tr style=\"text-align: right;\">\n",
       "      <th></th>\n",
       "      <th>work_year</th>\n",
       "      <th>job_title</th>\n",
       "      <th>remote_ratio</th>\n",
       "      <th>remote</th>\n",
       "    </tr>\n",
       "  </thead>\n",
       "  <tbody>\n",
       "    <tr>\n",
       "      <th>0</th>\n",
       "      <td>2020</td>\n",
       "      <td>Data Analyst</td>\n",
       "      <td>70.000</td>\n",
       "      <td>Half Remote</td>\n",
       "    </tr>\n",
       "    <tr>\n",
       "      <th>1</th>\n",
       "      <td>2020</td>\n",
       "      <td>Data Engineer</td>\n",
       "      <td>81.250</td>\n",
       "      <td>Mostly Remote</td>\n",
       "    </tr>\n",
       "    <tr>\n",
       "      <th>2</th>\n",
       "      <td>2020</td>\n",
       "      <td>Data Science Consultant</td>\n",
       "      <td>75.000</td>\n",
       "      <td>Half Remote</td>\n",
       "    </tr>\n",
       "    <tr>\n",
       "      <th>3</th>\n",
       "      <td>2020</td>\n",
       "      <td>Data Science Manager</td>\n",
       "      <td>100.000</td>\n",
       "      <td>Fully Remote</td>\n",
       "    </tr>\n",
       "    <tr>\n",
       "      <th>4</th>\n",
       "      <td>2020</td>\n",
       "      <td>Data Scientist</td>\n",
       "      <td>59.375</td>\n",
       "      <td>Non Remote</td>\n",
       "    </tr>\n",
       "  </tbody>\n",
       "</table>\n",
       "</div>"
      ],
      "text/plain": [
       "   work_year                job_title  remote_ratio         remote\n",
       "0       2020             Data Analyst        70.000    Half Remote\n",
       "1       2020            Data Engineer        81.250  Mostly Remote\n",
       "2       2020  Data Science Consultant        75.000    Half Remote\n",
       "3       2020     Data Science Manager       100.000   Fully Remote\n",
       "4       2020           Data Scientist        59.375     Non Remote"
      ]
     },
     "execution_count": 82,
     "metadata": {},
     "output_type": "execute_result"
    }
   ],
   "source": [
    "# creating labels for remote ratio into category to later make it numerical\n",
    "df_heatmap['remote'] = pd.qcut(\n",
    "    df_heatmap['remote_ratio'],\n",
    "    5,\n",
    "    labels = ['Non Remote', 'Some Remote', 'Half Remote', 'Mostly Remote', 'Fully Remote'])\n",
    "df_heatmap.head()"
   ]
  },
  {
   "cell_type": "code",
   "execution_count": 83,
   "id": "b32249f9",
   "metadata": {},
   "outputs": [
    {
     "data": {
      "text/html": [
       "<div>\n",
       "<style scoped>\n",
       "    .dataframe tbody tr th:only-of-type {\n",
       "        vertical-align: middle;\n",
       "    }\n",
       "\n",
       "    .dataframe tbody tr th {\n",
       "        vertical-align: top;\n",
       "    }\n",
       "\n",
       "    .dataframe thead th {\n",
       "        text-align: right;\n",
       "    }\n",
       "</style>\n",
       "<table border=\"1\" class=\"dataframe\">\n",
       "  <thead>\n",
       "    <tr style=\"text-align: right;\">\n",
       "      <th></th>\n",
       "      <th>work_year</th>\n",
       "      <th>job_title</th>\n",
       "      <th>remote_ratio</th>\n",
       "      <th>remote</th>\n",
       "      <th>remote_code</th>\n",
       "    </tr>\n",
       "  </thead>\n",
       "  <tbody>\n",
       "    <tr>\n",
       "      <th>0</th>\n",
       "      <td>2020</td>\n",
       "      <td>Data Analyst</td>\n",
       "      <td>70.000</td>\n",
       "      <td>Half Remote</td>\n",
       "      <td>2</td>\n",
       "    </tr>\n",
       "    <tr>\n",
       "      <th>1</th>\n",
       "      <td>2020</td>\n",
       "      <td>Data Engineer</td>\n",
       "      <td>81.250</td>\n",
       "      <td>Mostly Remote</td>\n",
       "      <td>3</td>\n",
       "    </tr>\n",
       "    <tr>\n",
       "      <th>2</th>\n",
       "      <td>2020</td>\n",
       "      <td>Data Science Consultant</td>\n",
       "      <td>75.000</td>\n",
       "      <td>Half Remote</td>\n",
       "      <td>2</td>\n",
       "    </tr>\n",
       "    <tr>\n",
       "      <th>3</th>\n",
       "      <td>2020</td>\n",
       "      <td>Data Science Manager</td>\n",
       "      <td>100.000</td>\n",
       "      <td>Fully Remote</td>\n",
       "      <td>4</td>\n",
       "    </tr>\n",
       "    <tr>\n",
       "      <th>4</th>\n",
       "      <td>2020</td>\n",
       "      <td>Data Scientist</td>\n",
       "      <td>59.375</td>\n",
       "      <td>Non Remote</td>\n",
       "      <td>0</td>\n",
       "    </tr>\n",
       "  </tbody>\n",
       "</table>\n",
       "</div>"
      ],
      "text/plain": [
       "   work_year                job_title  remote_ratio         remote  \\\n",
       "0       2020             Data Analyst        70.000    Half Remote   \n",
       "1       2020            Data Engineer        81.250  Mostly Remote   \n",
       "2       2020  Data Science Consultant        75.000    Half Remote   \n",
       "3       2020     Data Science Manager       100.000   Fully Remote   \n",
       "4       2020           Data Scientist        59.375     Non Remote   \n",
       "\n",
       "   remote_code  \n",
       "0            2  \n",
       "1            3  \n",
       "2            2  \n",
       "3            4  \n",
       "4            0  "
      ]
     },
     "execution_count": 83,
     "metadata": {},
     "output_type": "execute_result"
    }
   ],
   "source": [
    "# Creating codes for categories to use in heat map\n",
    "df_heatmap['remote_code'] = df_heatmap['remote'].cat.codes\n",
    "df_heatmap.head()"
   ]
  },
  {
   "cell_type": "code",
   "execution_count": 84,
   "id": "2532cfc6",
   "metadata": {
    "scrolled": false
   },
   "outputs": [
    {
     "data": {
      "text/html": [
       "<div>\n",
       "<style scoped>\n",
       "    .dataframe tbody tr th:only-of-type {\n",
       "        vertical-align: middle;\n",
       "    }\n",
       "\n",
       "    .dataframe tbody tr th {\n",
       "        vertical-align: top;\n",
       "    }\n",
       "\n",
       "    .dataframe thead th {\n",
       "        text-align: right;\n",
       "    }\n",
       "</style>\n",
       "<table border=\"1\" class=\"dataframe\">\n",
       "  <thead>\n",
       "    <tr style=\"text-align: right;\">\n",
       "      <th>job_title</th>\n",
       "      <th>Data Analyst</th>\n",
       "      <th>Data Architect</th>\n",
       "      <th>Data Engineer</th>\n",
       "      <th>Data Science Consultant</th>\n",
       "      <th>Data Science Manager</th>\n",
       "      <th>Data Scientist</th>\n",
       "      <th>Director of Data Science</th>\n",
       "      <th>Machine Learning Engineer</th>\n",
       "      <th>Research Scientist</th>\n",
       "    </tr>\n",
       "    <tr>\n",
       "      <th>work_year</th>\n",
       "      <th></th>\n",
       "      <th></th>\n",
       "      <th></th>\n",
       "      <th></th>\n",
       "      <th></th>\n",
       "      <th></th>\n",
       "      <th></th>\n",
       "      <th></th>\n",
       "      <th></th>\n",
       "    </tr>\n",
       "  </thead>\n",
       "  <tbody>\n",
       "    <tr>\n",
       "      <th>2020</th>\n",
       "      <td>2.0</td>\n",
       "      <td>NaN</td>\n",
       "      <td>3.0</td>\n",
       "      <td>2.0</td>\n",
       "      <td>4.0</td>\n",
       "      <td>0.0</td>\n",
       "      <td>4.0</td>\n",
       "      <td>1.0</td>\n",
       "      <td>0.0</td>\n",
       "    </tr>\n",
       "    <tr>\n",
       "      <th>2021</th>\n",
       "      <td>2.0</td>\n",
       "      <td>4.0</td>\n",
       "      <td>3.0</td>\n",
       "      <td>2.0</td>\n",
       "      <td>1.0</td>\n",
       "      <td>1.0</td>\n",
       "      <td>0.0</td>\n",
       "      <td>2.0</td>\n",
       "      <td>2.0</td>\n",
       "    </tr>\n",
       "    <tr>\n",
       "      <th>2022</th>\n",
       "      <td>3.0</td>\n",
       "      <td>4.0</td>\n",
       "      <td>3.0</td>\n",
       "      <td>NaN</td>\n",
       "      <td>4.0</td>\n",
       "      <td>1.0</td>\n",
       "      <td>0.0</td>\n",
       "      <td>0.0</td>\n",
       "      <td>1.0</td>\n",
       "    </tr>\n",
       "  </tbody>\n",
       "</table>\n",
       "</div>"
      ],
      "text/plain": [
       "job_title  Data Analyst  Data Architect  Data Engineer  \\\n",
       "work_year                                                \n",
       "2020                2.0             NaN            3.0   \n",
       "2021                2.0             4.0            3.0   \n",
       "2022                3.0             4.0            3.0   \n",
       "\n",
       "job_title  Data Science Consultant  Data Science Manager  Data Scientist  \\\n",
       "work_year                                                                  \n",
       "2020                           2.0                   4.0             0.0   \n",
       "2021                           2.0                   1.0             1.0   \n",
       "2022                           NaN                   4.0             1.0   \n",
       "\n",
       "job_title  Director of Data Science  Machine Learning Engineer  \\\n",
       "work_year                                                        \n",
       "2020                            4.0                        1.0   \n",
       "2021                            0.0                        2.0   \n",
       "2022                            0.0                        0.0   \n",
       "\n",
       "job_title  Research Scientist  \n",
       "work_year                      \n",
       "2020                      0.0  \n",
       "2021                      2.0  \n",
       "2022                      1.0  "
      ]
     },
     "execution_count": 84,
     "metadata": {},
     "output_type": "execute_result"
    }
   ],
   "source": [
    "# pivoting values for better readability\n",
    "df_heatmap = df_heatmap.pivot(index='work_year', columns='job_title', values='remote_code')\n",
    "df_heatmap.head()"
   ]
  },
  {
   "cell_type": "code",
   "execution_count": 85,
   "id": "abb571b5",
   "metadata": {},
   "outputs": [],
   "source": [
    "# replacing NAN values with 0\n",
    "df_heatmap.iloc[0,1] = 0\n",
    "df_heatmap.iloc[2,3] = 0"
   ]
  },
  {
   "cell_type": "code",
   "execution_count": 86,
   "id": "e98ba4ab",
   "metadata": {},
   "outputs": [
    {
     "data": {
      "text/html": [
       "<div>\n",
       "<style scoped>\n",
       "    .dataframe tbody tr th:only-of-type {\n",
       "        vertical-align: middle;\n",
       "    }\n",
       "\n",
       "    .dataframe tbody tr th {\n",
       "        vertical-align: top;\n",
       "    }\n",
       "\n",
       "    .dataframe thead th {\n",
       "        text-align: right;\n",
       "    }\n",
       "</style>\n",
       "<table border=\"1\" class=\"dataframe\">\n",
       "  <thead>\n",
       "    <tr style=\"text-align: right;\">\n",
       "      <th>job_title</th>\n",
       "      <th>Data Analyst</th>\n",
       "      <th>Data Architect</th>\n",
       "      <th>Data Engineer</th>\n",
       "      <th>Data Science Consultant</th>\n",
       "      <th>Data Science Manager</th>\n",
       "      <th>Data Scientist</th>\n",
       "      <th>Director of Data Science</th>\n",
       "      <th>Machine Learning Engineer</th>\n",
       "      <th>Research Scientist</th>\n",
       "    </tr>\n",
       "    <tr>\n",
       "      <th>work_year</th>\n",
       "      <th></th>\n",
       "      <th></th>\n",
       "      <th></th>\n",
       "      <th></th>\n",
       "      <th></th>\n",
       "      <th></th>\n",
       "      <th></th>\n",
       "      <th></th>\n",
       "      <th></th>\n",
       "    </tr>\n",
       "  </thead>\n",
       "  <tbody>\n",
       "    <tr>\n",
       "      <th>2020</th>\n",
       "      <td>2.0</td>\n",
       "      <td>0.0</td>\n",
       "      <td>3.0</td>\n",
       "      <td>2.0</td>\n",
       "      <td>4.0</td>\n",
       "      <td>0.0</td>\n",
       "      <td>4.0</td>\n",
       "      <td>1.0</td>\n",
       "      <td>0.0</td>\n",
       "    </tr>\n",
       "    <tr>\n",
       "      <th>2021</th>\n",
       "      <td>2.0</td>\n",
       "      <td>4.0</td>\n",
       "      <td>3.0</td>\n",
       "      <td>2.0</td>\n",
       "      <td>1.0</td>\n",
       "      <td>1.0</td>\n",
       "      <td>0.0</td>\n",
       "      <td>2.0</td>\n",
       "      <td>2.0</td>\n",
       "    </tr>\n",
       "    <tr>\n",
       "      <th>2022</th>\n",
       "      <td>3.0</td>\n",
       "      <td>4.0</td>\n",
       "      <td>3.0</td>\n",
       "      <td>0.0</td>\n",
       "      <td>4.0</td>\n",
       "      <td>1.0</td>\n",
       "      <td>0.0</td>\n",
       "      <td>0.0</td>\n",
       "      <td>1.0</td>\n",
       "    </tr>\n",
       "  </tbody>\n",
       "</table>\n",
       "</div>"
      ],
      "text/plain": [
       "job_title  Data Analyst  Data Architect  Data Engineer  \\\n",
       "work_year                                                \n",
       "2020                2.0             0.0            3.0   \n",
       "2021                2.0             4.0            3.0   \n",
       "2022                3.0             4.0            3.0   \n",
       "\n",
       "job_title  Data Science Consultant  Data Science Manager  Data Scientist  \\\n",
       "work_year                                                                  \n",
       "2020                           2.0                   4.0             0.0   \n",
       "2021                           2.0                   1.0             1.0   \n",
       "2022                           0.0                   4.0             1.0   \n",
       "\n",
       "job_title  Director of Data Science  Machine Learning Engineer  \\\n",
       "work_year                                                        \n",
       "2020                            4.0                        1.0   \n",
       "2021                            0.0                        2.0   \n",
       "2022                            0.0                        0.0   \n",
       "\n",
       "job_title  Research Scientist  \n",
       "work_year                      \n",
       "2020                      0.0  \n",
       "2021                      2.0  \n",
       "2022                      1.0  "
      ]
     },
     "execution_count": 86,
     "metadata": {},
     "output_type": "execute_result"
    }
   ],
   "source": [
    "df_heatmap.head()"
   ]
  },
  {
   "cell_type": "code",
   "execution_count": 87,
   "id": "25800379",
   "metadata": {
    "scrolled": false
   },
   "outputs": [
    {
     "data": {
      "image/png": "[encoded data removed]",
      "text/plain": [
       "<Figure size 800x600 with 2 Axes>"
      ]
     },
     "metadata": {},
     "output_type": "display_data"
    }
   ],
   "source": [
    "#heatmap syntax\n",
    "plt.figure(figsize=(8,6));\n",
    "ax = sns.heatmap(df_heatmap, cmap = 'YlGnBu')\n",
    "ax.set_title('Remote Rate for Job Types')\n",
    "colorbar = ax.collections[0].colorbar\n",
    "colorbar.set_ticks([0, 1, 2, 3, 4]) # choosing categories for remote type\n",
    "colorbar.set_ticklabels(['Non Remote', 'Some Remote', 'Half Remote', 'Mostly Remote', 'Fully Remote'])\n",
    "\n"
   ]
  },
  {
   "cell_type": "markdown",
   "id": "55b53fa8",
   "metadata": {},
   "source": [
    "# Combined Graph"
   ]
  },
  {
   "cell_type": "code",
   "execution_count": 88,
   "id": "78c29bb9",
   "metadata": {
    "scrolled": true
   },
   "outputs": [
    {
     "data": {
      "text/html": [
       "<div>\n",
       "<style scoped>\n",
       "    .dataframe tbody tr th:only-of-type {\n",
       "        vertical-align: middle;\n",
       "    }\n",
       "\n",
       "    .dataframe tbody tr th {\n",
       "        vertical-align: top;\n",
       "    }\n",
       "\n",
       "    .dataframe thead th {\n",
       "        text-align: right;\n",
       "    }\n",
       "</style>\n",
       "<table border=\"1\" class=\"dataframe\">\n",
       "  <thead>\n",
       "    <tr style=\"text-align: right;\">\n",
       "      <th></th>\n",
       "      <th>work_year</th>\n",
       "      <th>experience_level</th>\n",
       "      <th>employment_type</th>\n",
       "      <th>job_title</th>\n",
       "      <th>salary_in_usd</th>\n",
       "      <th>employee_residence</th>\n",
       "      <th>remote_ratio</th>\n",
       "      <th>company_location</th>\n",
       "      <th>company_size</th>\n",
       "      <th>formatted_salary</th>\n",
       "    </tr>\n",
       "  </thead>\n",
       "  <tbody>\n",
       "    <tr>\n",
       "      <th>0</th>\n",
       "      <td>2020</td>\n",
       "      <td>MI</td>\n",
       "      <td>FT</td>\n",
       "      <td>Data Scientist</td>\n",
       "      <td>79833</td>\n",
       "      <td>Germany</td>\n",
       "      <td>0</td>\n",
       "      <td>Germany</td>\n",
       "      <td>L</td>\n",
       "      <td>80K</td>\n",
       "    </tr>\n",
       "    <tr>\n",
       "      <th>4</th>\n",
       "      <td>2020</td>\n",
       "      <td>SE</td>\n",
       "      <td>FT</td>\n",
       "      <td>Machine Learning Engineer</td>\n",
       "      <td>150000</td>\n",
       "      <td>United States</td>\n",
       "      <td>50</td>\n",
       "      <td>United States</td>\n",
       "      <td>L</td>\n",
       "      <td>150K</td>\n",
       "    </tr>\n",
       "    <tr>\n",
       "      <th>5</th>\n",
       "      <td>2020</td>\n",
       "      <td>EN</td>\n",
       "      <td>FT</td>\n",
       "      <td>Data Analyst</td>\n",
       "      <td>72000</td>\n",
       "      <td>United States</td>\n",
       "      <td>100</td>\n",
       "      <td>United States</td>\n",
       "      <td>L</td>\n",
       "      <td>72K</td>\n",
       "    </tr>\n",
       "    <tr>\n",
       "      <th>10</th>\n",
       "      <td>2020</td>\n",
       "      <td>EN</td>\n",
       "      <td>FT</td>\n",
       "      <td>Data Scientist</td>\n",
       "      <td>51321</td>\n",
       "      <td>France</td>\n",
       "      <td>0</td>\n",
       "      <td>France</td>\n",
       "      <td>S</td>\n",
       "      <td>51K</td>\n",
       "    </tr>\n",
       "    <tr>\n",
       "      <th>11</th>\n",
       "      <td>2020</td>\n",
       "      <td>MI</td>\n",
       "      <td>FT</td>\n",
       "      <td>Data Scientist</td>\n",
       "      <td>40481</td>\n",
       "      <td>India</td>\n",
       "      <td>0</td>\n",
       "      <td>India</td>\n",
       "      <td>L</td>\n",
       "      <td>40K</td>\n",
       "    </tr>\n",
       "  </tbody>\n",
       "</table>\n",
       "</div>"
      ],
      "text/plain": [
       "    work_year experience_level employment_type                  job_title  \\\n",
       "0        2020               MI              FT             Data Scientist   \n",
       "4        2020               SE              FT  Machine Learning Engineer   \n",
       "5        2020               EN              FT               Data Analyst   \n",
       "10       2020               EN              FT             Data Scientist   \n",
       "11       2020               MI              FT             Data Scientist   \n",
       "\n",
       "    salary_in_usd employee_residence  remote_ratio company_location  \\\n",
       "0           79833            Germany             0          Germany   \n",
       "4          150000      United States            50    United States   \n",
       "5           72000      United States           100    United States   \n",
       "10          51321             France             0           France   \n",
       "11          40481              India             0            India   \n",
       "\n",
       "   company_size formatted_salary  \n",
       "0             L              80K  \n",
       "4             L             150K  \n",
       "5             L              72K  \n",
       "10            S              51K  \n",
       "11            L              40K  "
      ]
     },
     "execution_count": 88,
     "metadata": {},
     "output_type": "execute_result"
    }
   ],
   "source": [
    "df.head()"
   ]
  },
  {
   "cell_type": "code",
   "execution_count": 89,
   "id": "765e2894",
   "metadata": {},
   "outputs": [],
   "source": [
    "df_dual = df[['job_title', 'experience_level', 'salary_in_usd']].groupby(['job_title', 'experience_level']).mean().reset_index()"
   ]
  },
  {
   "cell_type": "code",
   "execution_count": 90,
   "id": "bf3e0421",
   "metadata": {},
   "outputs": [
    {
     "data": {
      "text/plain": [
       "Data Scientist               121\n",
       "Data Engineer                117\n",
       "Data Analyst                  94\n",
       "Machine Learning Engineer     27\n",
       "Data Science Manager          12\n",
       "Research Scientist            11\n",
       "Data Architect                11\n",
       "Data Science Consultant        7\n",
       "Director of Data Science       6\n",
       "Name: job_title, dtype: int64"
      ]
     },
     "execution_count": 90,
     "metadata": {},
     "output_type": "execute_result"
    }
   ],
   "source": [
    "df['job_title'].value_counts()"
   ]
  },
  {
   "cell_type": "code",
   "execution_count": 91,
   "id": "ebef75b8",
   "metadata": {},
   "outputs": [],
   "source": [
    "# filtering data by job title\n",
    "jobs = ('Data Analyst', 'Data Scientist', 'Data Architect', 'Data Engineer', 'Machine Learning Engineer', 'Data Science Consultant' )"
   ]
  },
  {
   "cell_type": "code",
   "execution_count": 92,
   "id": "72f3a5dc",
   "metadata": {},
   "outputs": [],
   "source": [
    "df_dual = df_dual[df_dual['job_title'].isin(jobs)]"
   ]
  },
  {
   "cell_type": "code",
   "execution_count": 93,
   "id": "0e90c878",
   "metadata": {
    "scrolled": false
   },
   "outputs": [
    {
     "data": {
      "text/html": [
       "<div>\n",
       "<style scoped>\n",
       "    .dataframe tbody tr th:only-of-type {\n",
       "        vertical-align: middle;\n",
       "    }\n",
       "\n",
       "    .dataframe tbody tr th {\n",
       "        vertical-align: top;\n",
       "    }\n",
       "\n",
       "    .dataframe thead th {\n",
       "        text-align: right;\n",
       "    }\n",
       "</style>\n",
       "<table border=\"1\" class=\"dataframe\">\n",
       "  <thead>\n",
       "    <tr style=\"text-align: right;\">\n",
       "      <th></th>\n",
       "      <th>job_title</th>\n",
       "      <th>experience_level</th>\n",
       "      <th>salary_in_usd</th>\n",
       "    </tr>\n",
       "  </thead>\n",
       "  <tbody>\n",
       "    <tr>\n",
       "      <th>0</th>\n",
       "      <td>Data Analyst</td>\n",
       "      <td>EN</td>\n",
       "      <td>57957.090909</td>\n",
       "    </tr>\n",
       "    <tr>\n",
       "      <th>1</th>\n",
       "      <td>Data Analyst</td>\n",
       "      <td>EX</td>\n",
       "      <td>120000.000000</td>\n",
       "    </tr>\n",
       "    <tr>\n",
       "      <th>2</th>\n",
       "      <td>Data Analyst</td>\n",
       "      <td>MI</td>\n",
       "      <td>73974.178571</td>\n",
       "    </tr>\n",
       "    <tr>\n",
       "      <th>3</th>\n",
       "      <td>Data Analyst</td>\n",
       "      <td>SE</td>\n",
       "      <td>112524.943396</td>\n",
       "    </tr>\n",
       "    <tr>\n",
       "      <th>4</th>\n",
       "      <td>Data Architect</td>\n",
       "      <td>MI</td>\n",
       "      <td>166666.666667</td>\n",
       "    </tr>\n",
       "  </tbody>\n",
       "</table>\n",
       "</div>"
      ],
      "text/plain": [
       "        job_title experience_level  salary_in_usd\n",
       "0    Data Analyst               EN   57957.090909\n",
       "1    Data Analyst               EX  120000.000000\n",
       "2    Data Analyst               MI   73974.178571\n",
       "3    Data Analyst               SE  112524.943396\n",
       "4  Data Architect               MI  166666.666667"
      ]
     },
     "execution_count": 93,
     "metadata": {},
     "output_type": "execute_result"
    }
   ],
   "source": [
    "df_dual.head()"
   ]
  },
  {
   "cell_type": "code",
   "execution_count": 94,
   "id": "2f417069",
   "metadata": {},
   "outputs": [],
   "source": [
    "# Removing Expert Category\n",
    "df_dual = df_dual[df_dual['experience_level'] != 'EX']"
   ]
  },
  {
   "cell_type": "code",
   "execution_count": 95,
   "id": "7800fa2b",
   "metadata": {},
   "outputs": [],
   "source": [
    "# converting mean values to integer\n",
    "df_dual['salary_in_usd'] = df_dual['salary_in_usd'].astype(int)"
   ]
  },
  {
   "cell_type": "code",
   "execution_count": 97,
   "id": "f16b3b9f",
   "metadata": {
    "scrolled": false
   },
   "outputs": [
    {
     "data": {
      "image/png": "[encoded data removed]",
      "text/plain": [
       "<Figure size 2000x1000 with 2 Axes>"
      ]
     },
     "metadata": {},
     "output_type": "display_data"
    }
   ],
   "source": [
    "\n",
    "fig, ax1 = plt.subplots() \n",
    "\n",
    "ax2 = ax1.twinx() # copy for the axis \n",
    "ax1.grid(False) # removing second grid line\n",
    "ax2.grid(False)\n",
    "# Two separate graphs that have the same axis\n",
    "sns.barplot(data = df_dual, x = 'job_title', y = 'salary_in_usd', color = 'lightgrey', ax = ax1, errorbar = None) # plots the first set of data, and sets it to ax1. \n",
    "sns.lineplot(data = df_dual, x = 'job_title', y = 'salary_in_usd', marker = 'o', hue = 'experience_level', ax = ax2) # plots the second set, and sets to ax2. \n",
    "sns.set(rc = {'figure.figsize':(20,10)})\n",
    "sns.set(font_scale =1.5)\n",
    "ax1.set_xlabel('Job Type')\n",
    "ax1.set_ylabel('Average Salary', color='black')\n",
    "ax2.set_ylabel('Salary Based on Experience', color='black')\n",
    "plt.title('Average Salary for Jobs Based on Experience')\n",
    "plt.show(); # shows the plot."
   ]
  },
  {
   "cell_type": "markdown",
   "id": "46673783",
   "metadata": {},
   "source": [
    "# Categorical Scatter Plot"
   ]
  },
  {
   "cell_type": "code",
   "execution_count": 98,
   "id": "3b257ac0",
   "metadata": {},
   "outputs": [],
   "source": [
    "# Filtering values into a new data frame\n",
    "df_scatter = df[['job_title', 'company_size', 'salary_in_usd']]"
   ]
  },
  {
   "cell_type": "code",
   "execution_count": 99,
   "id": "fe825a4c",
   "metadata": {},
   "outputs": [],
   "source": [
    "jobs = ('Data Analyst', 'Data Scientist', 'Data Engineer', 'Machine Learning Engineer')"
   ]
  },
  {
   "cell_type": "code",
   "execution_count": 100,
   "id": "ec97309a",
   "metadata": {},
   "outputs": [],
   "source": [
    "# removing outlier\n",
    "df_scatter = df_scatter[df_scatter['salary_in_usd'] < 300000]"
   ]
  },
  {
   "cell_type": "code",
   "execution_count": 101,
   "id": "896be70c",
   "metadata": {},
   "outputs": [],
   "source": [
    "# filtering for jobs\n",
    "df_scatter = df_scatter[df_scatter['job_title'].isin(jobs)]"
   ]
  },
  {
   "cell_type": "code",
   "execution_count": 102,
   "id": "6026b7ee",
   "metadata": {},
   "outputs": [],
   "source": [
    "# converting average to integer\n",
    "df_scatter['salary_in_usd'] = df_scatter['salary_in_usd'].astype(int)"
   ]
  },
  {
   "cell_type": "code",
   "execution_count": 103,
   "id": "13964ac0",
   "metadata": {
    "scrolled": false
   },
   "outputs": [
    {
     "name": "stderr",
     "output_type": "stream",
     "text": [
      "C:\\Users\\jjavi\\anaconda3\\envs\\myenv\\lib\\site-packages\\seaborn\\categorical.py:166: FutureWarning:\n",
      "\n",
      "Setting a gradient palette using color= is deprecated and will be removed in version 0.13. Set `palette='dark:Red'` for same effect.\n",
      "\n"
     ]
    },
    {
     "data": {
      "image/png": "[encoded data removed]",
      "text/plain": [
       "<Figure size 778.208x600 with 1 Axes>"
      ]
     },
     "metadata": {},
     "output_type": "display_data"
    }
   ],
   "source": [
    "#  a scatter plot with the swarm plot style\n",
    "sns.catplot(data=df_scatter, kind=\"swarm\", x=\"job_title\", color = 'Red', hue_order = ['S', 'M', 'L'], y=\"salary_in_usd\", hue=\"company_size\", height = 6)\n",
    "sns.set_style('dark')\n",
    "plt.title('Salary Based on Jobs and Company Size')\n",
    "plt.xlabel('Job Title')\n",
    "plt.ylabel('Salary')\n",
    "plt.xticks(rotation = 45, fontsize = 12)\n",
    "plt.show()"
   ]
  },
  {
   "cell_type": "markdown",
   "id": "fc7364fb",
   "metadata": {},
   "source": [
    "# Box Plot"
   ]
  },
  {
   "cell_type": "code",
   "execution_count": 105,
   "id": "ece88d5d",
   "metadata": {},
   "outputs": [],
   "source": [
    "# filtering box dataframe\n",
    "df_box = df[['job_title', 'work_year', 'salary_in_usd']]"
   ]
  },
  {
   "cell_type": "code",
   "execution_count": 106,
   "id": "bc53c28c",
   "metadata": {},
   "outputs": [],
   "source": [
    "jobs = ('Data Analyst', 'Data Scientist', 'Data Engineer', 'Machine Learning Engineer')"
   ]
  },
  {
   "cell_type": "code",
   "execution_count": 107,
   "id": "b23c76da",
   "metadata": {},
   "outputs": [],
   "source": [
    "df_box = df_box[df_box['job_title'].isin(jobs)]"
   ]
  },
  {
   "cell_type": "code",
   "execution_count": 108,
   "id": "922c51b6",
   "metadata": {},
   "outputs": [],
   "source": [
    "# removing outlier\n",
    "df_box = df_box[df_box['salary_in_usd'] < 300000]"
   ]
  },
  {
   "cell_type": "code",
   "execution_count": 109,
   "id": "11d1fa66",
   "metadata": {},
   "outputs": [
    {
     "data": {
      "image/png": "[encoded data removed]",
      "text/plain": [
       "<Figure size 1033.71x900 with 1 Axes>"
      ]
     },
     "metadata": {},
     "output_type": "display_data"
    }
   ],
   "source": [
    "# box plot syntax \n",
    "sns.catplot(data=df_box, x=\"salary_in_usd\", y=\"job_title\", hue=\"work_year\", kind=\"box\", height=9, hue_order = [2020, 2021, 2022])\n",
    "plt.title('Salary Based on Jobs and Year')\n",
    "plt.xlabel('Salary')\n",
    "plt.ylabel('Jobs')\n",
    "plt.show()"
   ]
  },
  {
   "cell_type": "markdown",
   "id": "caa47f40",
   "metadata": {},
   "source": [
    "# Linear Regression"
   ]
  },
  {
   "cell_type": "code",
   "execution_count": 110,
   "id": "047ae332",
   "metadata": {},
   "outputs": [],
   "source": [
    "#Filtering Jobs\n",
    "jobs = ('Data Analyst', 'Data Scientist', 'Data Engineer', 'Machine Learning Engineer')"
   ]
  },
  {
   "cell_type": "code",
   "execution_count": 111,
   "id": "cfdd0f83",
   "metadata": {},
   "outputs": [],
   "source": [
    "filtered_df = df[df['job_title'].isin(jobs)]"
   ]
  },
  {
   "cell_type": "code",
   "execution_count": 112,
   "id": "9326c380",
   "metadata": {
    "scrolled": true
   },
   "outputs": [
    {
     "data": {
      "text/plain": [
       "Data Scientist               121\n",
       "Data Engineer                117\n",
       "Data Analyst                  94\n",
       "Machine Learning Engineer     27\n",
       "Name: job_title, dtype: int64"
      ]
     },
     "execution_count": 112,
     "metadata": {},
     "output_type": "execute_result"
    }
   ],
   "source": [
    "filtered_df['job_title'].value_counts()"
   ]
  },
  {
   "cell_type": "markdown",
   "id": "6bdce609",
   "metadata": {},
   "source": [
    "# Checking for data length"
   ]
  },
  {
   "cell_type": "code",
   "execution_count": 113,
   "id": "c44bd16a",
   "metadata": {
    "scrolled": false
   },
   "outputs": [
    {
     "data": {
      "text/plain": [
       "job_title                  experience_level  company_size\n",
       "Data Analyst               SE                M               51\n",
       "Data Engineer              SE                M               48\n",
       "Data Scientist             SE                M               42\n",
       "Data Engineer              MI                M               28\n",
       "Data Scientist             MI                M               23\n",
       "                                             L               18\n",
       "Data Analyst               MI                M               17\n",
       "Data Scientist             SE                L               15\n",
       "Data Engineer              MI                L               14\n",
       "                           SE                L               12\n",
       "Machine Learning Engineer  SE                M                8\n",
       "Data Analyst               MI                L                8\n",
       "                           EN                M                6\n",
       "Data Scientist             EN                M                6\n",
       "                                             S                6\n",
       "                           MI                S                6\n",
       "Machine Learning Engineer  SE                L                6\n",
       "Data Engineer              EN                M                5\n",
       "                           EX                M                4\n",
       "Data Scientist             EN                L                4\n",
       "Machine Learning Engineer  EN                S                4\n",
       "                           MI                M                3\n",
       "Data Engineer              EN                L                3\n",
       "Machine Learning Engineer  MI                S                3\n",
       "Data Analyst               MI                S                3\n",
       "                           EN                S                3\n",
       "Machine Learning Engineer  EN                L                2\n",
       "Data Analyst               EN                L                2\n",
       "Data Engineer              EN                S                2\n",
       "Data Analyst               SE                L                2\n",
       "                           EX                M                2\n",
       "Machine Learning Engineer  EN                M                1\n",
       "Data Scientist             SE                S                1\n",
       "Data Engineer              SE                S                1\n",
       "dtype: int64"
      ]
     },
     "execution_count": 113,
     "metadata": {},
     "output_type": "execute_result"
    }
   ],
   "source": [
    "# Missing data for categories, must add more data\n",
    "filtered_df[['job_title', 'experience_level', 'company_size']].value_counts()"
   ]
  },
  {
   "cell_type": "code",
   "execution_count": 114,
   "id": "5438134b",
   "metadata": {},
   "outputs": [],
   "source": [
    "# filtering out expert category\n",
    "filtered_df = filtered_df[filtered_df['experience_level'] != 'EX']"
   ]
  },
  {
   "cell_type": "code",
   "execution_count": 115,
   "id": "6449e985",
   "metadata": {
    "scrolled": true
   },
   "outputs": [],
   "source": [
    "# filtering for only the US\n",
    "filtered_df = filtered_df[filtered_df['company_location'] == 'United States']"
   ]
  },
  {
   "cell_type": "code",
   "execution_count": 116,
   "id": "413b3a80",
   "metadata": {},
   "outputs": [],
   "source": [
    "#only keeping desired columns for statistical models\n",
    "filtered_df = filtered_df[['job_title', 'experience_level', 'company_size', 'salary_in_usd']]"
   ]
  },
  {
   "cell_type": "code",
   "execution_count": 117,
   "id": "54bfeef3",
   "metadata": {
    "scrolled": true
   },
   "outputs": [
    {
     "name": "stdout",
     "output_type": "stream",
     "text": [
      "<class 'pandas.core.frame.DataFrame'>\n",
      "Int64Index: 244 entries, 4 to 605\n",
      "Data columns (total 4 columns):\n",
      " #   Column            Non-Null Count  Dtype \n",
      "---  ------            --------------  ----- \n",
      " 0   job_title         244 non-null    object\n",
      " 1   experience_level  244 non-null    object\n",
      " 2   company_size      244 non-null    object\n",
      " 3   salary_in_usd     244 non-null    int64 \n",
      "dtypes: int64(1), object(3)\n",
      "memory usage: 9.5+ KB\n"
     ]
    }
   ],
   "source": [
    "filtered_df.info()"
   ]
  },
  {
   "cell_type": "code",
   "execution_count": 118,
   "id": "f80b56ba",
   "metadata": {
    "scrolled": false
   },
   "outputs": [
    {
     "data": {
      "text/html": [
       "<div>\n",
       "<style scoped>\n",
       "    .dataframe tbody tr th:only-of-type {\n",
       "        vertical-align: middle;\n",
       "    }\n",
       "\n",
       "    .dataframe tbody tr th {\n",
       "        vertical-align: top;\n",
       "    }\n",
       "\n",
       "    .dataframe thead th {\n",
       "        text-align: right;\n",
       "    }\n",
       "</style>\n",
       "<table border=\"1\" class=\"dataframe\">\n",
       "  <thead>\n",
       "    <tr style=\"text-align: right;\">\n",
       "      <th></th>\n",
       "      <th>job_title</th>\n",
       "      <th>experience_level</th>\n",
       "      <th>company_size</th>\n",
       "      <th>salary_in_usd</th>\n",
       "    </tr>\n",
       "  </thead>\n",
       "  <tbody>\n",
       "    <tr>\n",
       "      <th>4</th>\n",
       "      <td>Machine Learning Engineer</td>\n",
       "      <td>SE</td>\n",
       "      <td>L</td>\n",
       "      <td>150000</td>\n",
       "    </tr>\n",
       "    <tr>\n",
       "      <th>5</th>\n",
       "      <td>Data Analyst</td>\n",
       "      <td>EN</td>\n",
       "      <td>L</td>\n",
       "      <td>72000</td>\n",
       "    </tr>\n",
       "    <tr>\n",
       "      <th>14</th>\n",
       "      <td>Data Analyst</td>\n",
       "      <td>MI</td>\n",
       "      <td>L</td>\n",
       "      <td>85000</td>\n",
       "    </tr>\n",
       "    <tr>\n",
       "      <th>32</th>\n",
       "      <td>Data Scientist</td>\n",
       "      <td>SE</td>\n",
       "      <td>L</td>\n",
       "      <td>68428</td>\n",
       "    </tr>\n",
       "    <tr>\n",
       "      <th>37</th>\n",
       "      <td>Machine Learning Engineer</td>\n",
       "      <td>EN</td>\n",
       "      <td>L</td>\n",
       "      <td>250000</td>\n",
       "    </tr>\n",
       "    <tr>\n",
       "      <th>39</th>\n",
       "      <td>Machine Learning Engineer</td>\n",
       "      <td>EN</td>\n",
       "      <td>S</td>\n",
       "      <td>138000</td>\n",
       "    </tr>\n",
       "    <tr>\n",
       "      <th>43</th>\n",
       "      <td>Data Engineer</td>\n",
       "      <td>MI</td>\n",
       "      <td>L</td>\n",
       "      <td>106000</td>\n",
       "    </tr>\n",
       "    <tr>\n",
       "      <th>47</th>\n",
       "      <td>Data Engineer</td>\n",
       "      <td>SE</td>\n",
       "      <td>L</td>\n",
       "      <td>188000</td>\n",
       "    </tr>\n",
       "    <tr>\n",
       "      <th>48</th>\n",
       "      <td>Data Scientist</td>\n",
       "      <td>MI</td>\n",
       "      <td>L</td>\n",
       "      <td>105000</td>\n",
       "    </tr>\n",
       "    <tr>\n",
       "      <th>51</th>\n",
       "      <td>Data Analyst</td>\n",
       "      <td>EN</td>\n",
       "      <td>L</td>\n",
       "      <td>91000</td>\n",
       "    </tr>\n",
       "  </tbody>\n",
       "</table>\n",
       "</div>"
      ],
      "text/plain": [
       "                    job_title experience_level company_size  salary_in_usd\n",
       "4   Machine Learning Engineer               SE            L         150000\n",
       "5                Data Analyst               EN            L          72000\n",
       "14               Data Analyst               MI            L          85000\n",
       "32             Data Scientist               SE            L          68428\n",
       "37  Machine Learning Engineer               EN            L         250000\n",
       "39  Machine Learning Engineer               EN            S         138000\n",
       "43              Data Engineer               MI            L         106000\n",
       "47              Data Engineer               SE            L         188000\n",
       "48             Data Scientist               MI            L         105000\n",
       "51               Data Analyst               EN            L          91000"
      ]
     },
     "execution_count": 118,
     "metadata": {},
     "output_type": "execute_result"
    }
   ],
   "source": [
    "filtered_df.head(10)"
   ]
  },
  {
   "cell_type": "markdown",
   "id": "2c96333b",
   "metadata": {},
   "source": [
    "# Merge New Data"
   ]
  },
  {
   "cell_type": "code",
   "execution_count": 119,
   "id": "84b1c9ab",
   "metadata": {},
   "outputs": [],
   "source": [
    "df_addon = pd.read_csv(\"Data Science Salaries Add On.csv\")"
   ]
  },
  {
   "cell_type": "code",
   "execution_count": 120,
   "id": "3b815f3b",
   "metadata": {
    "scrolled": true
   },
   "outputs": [
    {
     "name": "stdout",
     "output_type": "stream",
     "text": [
      "<class 'pandas.core.frame.DataFrame'>\n",
      "RangeIndex: 1336 entries, 0 to 1335\n",
      "Data columns (total 4 columns):\n",
      " #   Column            Non-Null Count  Dtype \n",
      "---  ------            --------------  ----- \n",
      " 0   job_title         1336 non-null   object\n",
      " 1   experience_level  1336 non-null   object\n",
      " 2   company_size      1336 non-null   object\n",
      " 3   salary_in_usd     1336 non-null   int64 \n",
      "dtypes: int64(1), object(3)\n",
      "memory usage: 41.9+ KB\n"
     ]
    }
   ],
   "source": [
    "# New CSV data frame\n",
    "df_addon.info()"
   ]
  },
  {
   "cell_type": "code",
   "execution_count": 121,
   "id": "29eaee3b",
   "metadata": {},
   "outputs": [],
   "source": [
    "#  Merged Kaggle df with add on df using concat to append values\n",
    "merged_df = pd.concat([df_addon, filtered_df], axis=0)"
   ]
  },
  {
   "cell_type": "code",
   "execution_count": 122,
   "id": "c9be627b",
   "metadata": {
    "scrolled": true
   },
   "outputs": [
    {
     "name": "stdout",
     "output_type": "stream",
     "text": [
      "<class 'pandas.core.frame.DataFrame'>\n",
      "Int64Index: 1580 entries, 0 to 605\n",
      "Data columns (total 4 columns):\n",
      " #   Column            Non-Null Count  Dtype \n",
      "---  ------            --------------  ----- \n",
      " 0   job_title         1580 non-null   object\n",
      " 1   experience_level  1580 non-null   object\n",
      " 2   company_size      1580 non-null   object\n",
      " 3   salary_in_usd     1580 non-null   int64 \n",
      "dtypes: int64(1), object(3)\n",
      "memory usage: 61.7+ KB\n"
     ]
    }
   ],
   "source": [
    "merged_df.info()"
   ]
  },
  {
   "cell_type": "code",
   "execution_count": 123,
   "id": "c1702686",
   "metadata": {},
   "outputs": [
    {
     "data": {
      "text/plain": [
       "(1580, 4)"
      ]
     },
     "execution_count": 123,
     "metadata": {},
     "output_type": "execute_result"
    }
   ],
   "source": [
    "merged_df.shape"
   ]
  },
  {
   "cell_type": "code",
   "execution_count": 124,
   "id": "bbcf56c4",
   "metadata": {
    "scrolled": true
   },
   "outputs": [
    {
     "name": "stderr",
     "output_type": "stream",
     "text": [
      "C:\\Users\\jjavi\\AppData\\Local\\Temp\\ipykernel_260\\3761220018.py:1: FutureWarning:\n",
      "\n",
      "The default value of numeric_only in DataFrameGroupBy.mean is deprecated. In a future version, numeric_only will default to False. Either specify numeric_only or select only columns which should be valid for the function.\n",
      "\n"
     ]
    },
    {
     "data": {
      "text/html": [
       "<div>\n",
       "<style scoped>\n",
       "    .dataframe tbody tr th:only-of-type {\n",
       "        vertical-align: middle;\n",
       "    }\n",
       "\n",
       "    .dataframe tbody tr th {\n",
       "        vertical-align: top;\n",
       "    }\n",
       "\n",
       "    .dataframe thead th {\n",
       "        text-align: right;\n",
       "    }\n",
       "</style>\n",
       "<table border=\"1\" class=\"dataframe\">\n",
       "  <thead>\n",
       "    <tr style=\"text-align: right;\">\n",
       "      <th></th>\n",
       "      <th>salary_in_usd</th>\n",
       "    </tr>\n",
       "    <tr>\n",
       "      <th>experience_level</th>\n",
       "      <th></th>\n",
       "    </tr>\n",
       "  </thead>\n",
       "  <tbody>\n",
       "    <tr>\n",
       "      <th>EN</th>\n",
       "      <td>72510</td>\n",
       "    </tr>\n",
       "    <tr>\n",
       "      <th>MI</th>\n",
       "      <td>108723</td>\n",
       "    </tr>\n",
       "    <tr>\n",
       "      <th>SE</th>\n",
       "      <td>149479</td>\n",
       "    </tr>\n",
       "  </tbody>\n",
       "</table>\n",
       "</div>"
      ],
      "text/plain": [
       "                  salary_in_usd\n",
       "experience_level               \n",
       "EN                        72510\n",
       "MI                       108723\n",
       "SE                       149479"
      ]
     },
     "execution_count": 124,
     "metadata": {},
     "output_type": "execute_result"
    }
   ],
   "source": [
    "merged_df.groupby('experience_level').mean().astype(int)"
   ]
  },
  {
   "cell_type": "code",
   "execution_count": 125,
   "id": "fc64bf4e",
   "metadata": {},
   "outputs": [
    {
     "data": {
      "text/html": [
       "<div>\n",
       "<style scoped>\n",
       "    .dataframe tbody tr th:only-of-type {\n",
       "        vertical-align: middle;\n",
       "    }\n",
       "\n",
       "    .dataframe tbody tr th {\n",
       "        vertical-align: top;\n",
       "    }\n",
       "\n",
       "    .dataframe thead th {\n",
       "        text-align: right;\n",
       "    }\n",
       "</style>\n",
       "<table border=\"1\" class=\"dataframe\">\n",
       "  <thead>\n",
       "    <tr style=\"text-align: right;\">\n",
       "      <th></th>\n",
       "      <th>job_title</th>\n",
       "      <th>experience_level</th>\n",
       "      <th>company_size</th>\n",
       "      <th>salary_in_usd</th>\n",
       "    </tr>\n",
       "  </thead>\n",
       "  <tbody>\n",
       "    <tr>\n",
       "      <th>0</th>\n",
       "      <td>Data Scientist</td>\n",
       "      <td>SE</td>\n",
       "      <td>L</td>\n",
       "      <td>203610</td>\n",
       "    </tr>\n",
       "    <tr>\n",
       "      <th>1</th>\n",
       "      <td>Data Scientist</td>\n",
       "      <td>SE</td>\n",
       "      <td>L</td>\n",
       "      <td>218000</td>\n",
       "    </tr>\n",
       "    <tr>\n",
       "      <th>2</th>\n",
       "      <td>Data Scientist</td>\n",
       "      <td>SE</td>\n",
       "      <td>L</td>\n",
       "      <td>247000</td>\n",
       "    </tr>\n",
       "    <tr>\n",
       "      <th>3</th>\n",
       "      <td>Data Scientist</td>\n",
       "      <td>SE</td>\n",
       "      <td>L</td>\n",
       "      <td>240500</td>\n",
       "    </tr>\n",
       "    <tr>\n",
       "      <th>4</th>\n",
       "      <td>Data Scientist</td>\n",
       "      <td>SE</td>\n",
       "      <td>L</td>\n",
       "      <td>220000</td>\n",
       "    </tr>\n",
       "    <tr>\n",
       "      <th>5</th>\n",
       "      <td>Data Scientist</td>\n",
       "      <td>SE</td>\n",
       "      <td>L</td>\n",
       "      <td>187500</td>\n",
       "    </tr>\n",
       "    <tr>\n",
       "      <th>6</th>\n",
       "      <td>Data Scientist</td>\n",
       "      <td>SE</td>\n",
       "      <td>L</td>\n",
       "      <td>254000</td>\n",
       "    </tr>\n",
       "    <tr>\n",
       "      <th>7</th>\n",
       "      <td>Data Scientist</td>\n",
       "      <td>SE</td>\n",
       "      <td>S</td>\n",
       "      <td>152838</td>\n",
       "    </tr>\n",
       "    <tr>\n",
       "      <th>8</th>\n",
       "      <td>Data Scientist</td>\n",
       "      <td>SE</td>\n",
       "      <td>S</td>\n",
       "      <td>93300</td>\n",
       "    </tr>\n",
       "    <tr>\n",
       "      <th>9</th>\n",
       "      <td>Data Scientist</td>\n",
       "      <td>SE</td>\n",
       "      <td>S</td>\n",
       "      <td>112800</td>\n",
       "    </tr>\n",
       "  </tbody>\n",
       "</table>\n",
       "</div>"
      ],
      "text/plain": [
       "        job_title experience_level company_size  salary_in_usd\n",
       "0  Data Scientist               SE            L         203610\n",
       "1  Data Scientist               SE            L         218000\n",
       "2  Data Scientist               SE            L         247000\n",
       "3  Data Scientist               SE            L         240500\n",
       "4  Data Scientist               SE            L         220000\n",
       "5  Data Scientist               SE            L         187500\n",
       "6  Data Scientist               SE            L         254000\n",
       "7  Data Scientist               SE            S         152838\n",
       "8  Data Scientist               SE            S          93300\n",
       "9  Data Scientist               SE            S         112800"
      ]
     },
     "execution_count": 125,
     "metadata": {},
     "output_type": "execute_result"
    }
   ],
   "source": [
    "merged_df.head(10)"
   ]
  },
  {
   "cell_type": "markdown",
   "id": "7b8eead6",
   "metadata": {},
   "source": [
    "# Choose Job Tab"
   ]
  },
  {
   "cell_type": "code",
   "execution_count": 126,
   "id": "5bdb7bcf",
   "metadata": {},
   "outputs": [],
   "source": [
    "job_chosen = 'Data_Scientist'"
   ]
  },
  {
   "cell_type": "markdown",
   "id": "589d5efd",
   "metadata": {},
   "source": [
    "# Converting to Dummy Variables"
   ]
  },
  {
   "cell_type": "code",
   "execution_count": 127,
   "id": "b5d60cd8",
   "metadata": {},
   "outputs": [],
   "source": [
    "# converting jobs using one hot encoding\n",
    "df_dummies=pd.get_dummies(merged_df,columns=['job_title'], drop_first = False)"
   ]
  },
  {
   "cell_type": "code",
   "execution_count": 128,
   "id": "8ea61ce7",
   "metadata": {},
   "outputs": [],
   "source": [
    "# converting salaries to the thousands\n",
    "df_dummies['salary_in_usd'] = df_dummies['salary_in_usd'] / 1000"
   ]
  },
  {
   "cell_type": "code",
   "execution_count": 129,
   "id": "953edc0b",
   "metadata": {
    "scrolled": true
   },
   "outputs": [
    {
     "data": {
      "text/html": [
       "<div>\n",
       "<style scoped>\n",
       "    .dataframe tbody tr th:only-of-type {\n",
       "        vertical-align: middle;\n",
       "    }\n",
       "\n",
       "    .dataframe tbody tr th {\n",
       "        vertical-align: top;\n",
       "    }\n",
       "\n",
       "    .dataframe thead th {\n",
       "        text-align: right;\n",
       "    }\n",
       "</style>\n",
       "<table border=\"1\" class=\"dataframe\">\n",
       "  <thead>\n",
       "    <tr style=\"text-align: right;\">\n",
       "      <th></th>\n",
       "      <th>experience_level</th>\n",
       "      <th>company_size</th>\n",
       "      <th>salary_in_usd</th>\n",
       "      <th>job_title_Data Analyst</th>\n",
       "      <th>job_title_Data Engineer</th>\n",
       "      <th>job_title_Data Scientist</th>\n",
       "      <th>job_title_Machine Learning Engineer</th>\n",
       "    </tr>\n",
       "  </thead>\n",
       "  <tbody>\n",
       "    <tr>\n",
       "      <th>0</th>\n",
       "      <td>SE</td>\n",
       "      <td>L</td>\n",
       "      <td>203.61</td>\n",
       "      <td>0</td>\n",
       "      <td>0</td>\n",
       "      <td>1</td>\n",
       "      <td>0</td>\n",
       "    </tr>\n",
       "    <tr>\n",
       "      <th>1</th>\n",
       "      <td>SE</td>\n",
       "      <td>L</td>\n",
       "      <td>218.00</td>\n",
       "      <td>0</td>\n",
       "      <td>0</td>\n",
       "      <td>1</td>\n",
       "      <td>0</td>\n",
       "    </tr>\n",
       "    <tr>\n",
       "      <th>2</th>\n",
       "      <td>SE</td>\n",
       "      <td>L</td>\n",
       "      <td>247.00</td>\n",
       "      <td>0</td>\n",
       "      <td>0</td>\n",
       "      <td>1</td>\n",
       "      <td>0</td>\n",
       "    </tr>\n",
       "    <tr>\n",
       "      <th>3</th>\n",
       "      <td>SE</td>\n",
       "      <td>L</td>\n",
       "      <td>240.50</td>\n",
       "      <td>0</td>\n",
       "      <td>0</td>\n",
       "      <td>1</td>\n",
       "      <td>0</td>\n",
       "    </tr>\n",
       "    <tr>\n",
       "      <th>4</th>\n",
       "      <td>SE</td>\n",
       "      <td>L</td>\n",
       "      <td>220.00</td>\n",
       "      <td>0</td>\n",
       "      <td>0</td>\n",
       "      <td>1</td>\n",
       "      <td>0</td>\n",
       "    </tr>\n",
       "  </tbody>\n",
       "</table>\n",
       "</div>"
      ],
      "text/plain": [
       "  experience_level company_size  salary_in_usd  job_title_Data Analyst  \\\n",
       "0               SE            L         203.61                       0   \n",
       "1               SE            L         218.00                       0   \n",
       "2               SE            L         247.00                       0   \n",
       "3               SE            L         240.50                       0   \n",
       "4               SE            L         220.00                       0   \n",
       "\n",
       "   job_title_Data Engineer  job_title_Data Scientist  \\\n",
       "0                        0                         1   \n",
       "1                        0                         1   \n",
       "2                        0                         1   \n",
       "3                        0                         1   \n",
       "4                        0                         1   \n",
       "\n",
       "   job_title_Machine Learning Engineer  \n",
       "0                                    0  \n",
       "1                                    0  \n",
       "2                                    0  \n",
       "3                                    0  \n",
       "4                                    0  "
      ]
     },
     "execution_count": 129,
     "metadata": {},
     "output_type": "execute_result"
    }
   ],
   "source": [
    "df_dummies.head()"
   ]
  },
  {
   "cell_type": "code",
   "execution_count": 130,
   "id": "dfe721c0",
   "metadata": {},
   "outputs": [],
   "source": [
    "# renaming job title columns\n",
    "df_dummies.rename (columns ={'job_title_Data Analyst':'Data_Analyst','job_title_Data Engineer':'Data_Engineer', 'job_title_Data Scientist': 'Data_Scientist', 'job_title_Machine Learning Engineer': 'Machine_Learning_Engineer'},inplace=True)"
   ]
  },
  {
   "cell_type": "code",
   "execution_count": 131,
   "id": "5885fb34",
   "metadata": {},
   "outputs": [],
   "source": [
    "# Selecting dummy column to drop\n",
    "#if column selected is equal to column dropped, drop other column else keep the dropped column\n",
    "column_dropped = 'Data_Engineer'\n",
    "alternative = 'Machine_Learning_Engineer'\n",
    "if job_chosen != column_dropped:\n",
    "    df_dummies.drop(column_dropped, axis = 1, inplace = True)\n",
    "else:\n",
    "    df_dummies.drop(alternative, axis = 1, inplace = True)"
   ]
  },
  {
   "cell_type": "code",
   "execution_count": 132,
   "id": "b51d061f",
   "metadata": {},
   "outputs": [],
   "source": [
    "# encoding categorical variables and replacing them with integer\n",
    "conversion = {'company_size': {'L': 3, 'M': 2, 'S':1}}\n",
    "df_dummies =  df_dummies.replace(conversion)"
   ]
  },
  {
   "cell_type": "code",
   "execution_count": 133,
   "id": "126e98c9",
   "metadata": {},
   "outputs": [],
   "source": [
    "conversion = {'experience_level': {'SE': 3, 'MI': 2, 'EN':1}}\n",
    "df_dummies =  df_dummies.replace(conversion)"
   ]
  },
  {
   "cell_type": "code",
   "execution_count": 134,
   "id": "69deabe7",
   "metadata": {
    "scrolled": false
   },
   "outputs": [
    {
     "data": {
      "text/html": [
       "<div>\n",
       "<style scoped>\n",
       "    .dataframe tbody tr th:only-of-type {\n",
       "        vertical-align: middle;\n",
       "    }\n",
       "\n",
       "    .dataframe tbody tr th {\n",
       "        vertical-align: top;\n",
       "    }\n",
       "\n",
       "    .dataframe thead th {\n",
       "        text-align: right;\n",
       "    }\n",
       "</style>\n",
       "<table border=\"1\" class=\"dataframe\">\n",
       "  <thead>\n",
       "    <tr style=\"text-align: right;\">\n",
       "      <th></th>\n",
       "      <th>experience_level</th>\n",
       "      <th>company_size</th>\n",
       "      <th>salary_in_usd</th>\n",
       "      <th>Data_Analyst</th>\n",
       "      <th>Data_Scientist</th>\n",
       "      <th>Machine_Learning_Engineer</th>\n",
       "    </tr>\n",
       "  </thead>\n",
       "  <tbody>\n",
       "    <tr>\n",
       "      <th>0</th>\n",
       "      <td>3</td>\n",
       "      <td>3</td>\n",
       "      <td>203.61</td>\n",
       "      <td>0</td>\n",
       "      <td>1</td>\n",
       "      <td>0</td>\n",
       "    </tr>\n",
       "    <tr>\n",
       "      <th>1</th>\n",
       "      <td>3</td>\n",
       "      <td>3</td>\n",
       "      <td>218.00</td>\n",
       "      <td>0</td>\n",
       "      <td>1</td>\n",
       "      <td>0</td>\n",
       "    </tr>\n",
       "    <tr>\n",
       "      <th>2</th>\n",
       "      <td>3</td>\n",
       "      <td>3</td>\n",
       "      <td>247.00</td>\n",
       "      <td>0</td>\n",
       "      <td>1</td>\n",
       "      <td>0</td>\n",
       "    </tr>\n",
       "    <tr>\n",
       "      <th>3</th>\n",
       "      <td>3</td>\n",
       "      <td>3</td>\n",
       "      <td>240.50</td>\n",
       "      <td>0</td>\n",
       "      <td>1</td>\n",
       "      <td>0</td>\n",
       "    </tr>\n",
       "    <tr>\n",
       "      <th>4</th>\n",
       "      <td>3</td>\n",
       "      <td>3</td>\n",
       "      <td>220.00</td>\n",
       "      <td>0</td>\n",
       "      <td>1</td>\n",
       "      <td>0</td>\n",
       "    </tr>\n",
       "  </tbody>\n",
       "</table>\n",
       "</div>"
      ],
      "text/plain": [
       "   experience_level  company_size  salary_in_usd  Data_Analyst  \\\n",
       "0                 3             3         203.61             0   \n",
       "1                 3             3         218.00             0   \n",
       "2                 3             3         247.00             0   \n",
       "3                 3             3         240.50             0   \n",
       "4                 3             3         220.00             0   \n",
       "\n",
       "   Data_Scientist  Machine_Learning_Engineer  \n",
       "0               1                          0  \n",
       "1               1                          0  \n",
       "2               1                          0  \n",
       "3               1                          0  \n",
       "4               1                          0  "
      ]
     },
     "execution_count": 134,
     "metadata": {},
     "output_type": "execute_result"
    }
   ],
   "source": [
    "df_dummies.head()"
   ]
  },
  {
   "cell_type": "markdown",
   "id": "52e63e6e",
   "metadata": {},
   "source": [
    "# Multilinear Regression"
   ]
  },
  {
   "cell_type": "code",
   "execution_count": null,
   "id": "55c6d8bc",
   "metadata": {},
   "outputs": [],
   "source": [
    "# Isolate columns for analysis\n",
    "colnames = df_dummies.columns.values\n",
    "colnames = list(colnames[3:6])\n",
    "colnames"
   ]
  },
  {
   "cell_type": "code",
   "execution_count": null,
   "id": "019c1ec3",
   "metadata": {},
   "outputs": [],
   "source": [
    "# loop through list and add to string\n",
    "columns = 'salary_in_usd~experience_level+company_size'\n",
    "for col in colnames:\n",
    "    if col == job_chosen:\n",
    "        columns+='+' + col\n",
    "columns"
   ]
  },
  {
   "cell_type": "code",
   "execution_count": null,
   "id": "f5776672",
   "metadata": {},
   "outputs": [],
   "source": [
    "# Getting the multiple regression object\n",
    "regression_object_multiple= smf.ols(columns, data=df_dummies)"
   ]
  },
  {
   "cell_type": "code",
   "execution_count": null,
   "id": "a8b166b8",
   "metadata": {},
   "outputs": [],
   "source": [
    "regression_linear_model= regression_object_multiple.fit()"
   ]
  },
  {
   "cell_type": "code",
   "execution_count": null,
   "id": "3bda8bb8",
   "metadata": {},
   "outputs": [],
   "source": [
    "print(str(regression_linear_model.summary()))"
   ]
  },
  {
   "cell_type": "code",
   "execution_count": null,
   "id": "f39dde1f",
   "metadata": {},
   "outputs": [],
   "source": [
    "regression_linear_model.predict({'experience_level': 1, 'company_size': 1, 'Data_Analyst': 1, 'Data_Scientist': 0, 'Machine_Learning_Engineer': 0})"
   ]
  },
  {
   "cell_type": "code",
   "execution_count": null,
   "id": "f8eb321d",
   "metadata": {},
   "outputs": [],
   "source": [
    "# Fitting the values into the model\n",
    "regression_linear_model= regression_object_multiple.fit()"
   ]
  },
  {
   "cell_type": "code",
   "execution_count": null,
   "id": "995b4708",
   "metadata": {
    "scrolled": false
   },
   "outputs": [],
   "source": [
    "print(str(regression_linear_model.summary()))"
   ]
  },
  {
   "cell_type": "code",
   "execution_count": null,
   "id": "2fc672b6",
   "metadata": {},
   "outputs": [],
   "source": [
    "# Prediction Example\n",
    "regression_linear_model.predict({'experience_level': 1, 'company_size': 1, 'Data_Scientist': 1})"
   ]
  },
  {
   "cell_type": "markdown",
   "id": "79bcbad5",
   "metadata": {},
   "source": [
    "# Equation\n",
    "\n",
    "Will change depending on chosen job value"
   ]
  },
  {
   "cell_type": "code",
   "execution_count": null,
   "id": "7337b4df",
   "metadata": {},
   "outputs": [],
   "source": [
    "# Retrieving adj r2\n",
    "# percent of variability reduced in the values of y as opposed to using the mean to make predictions\n",
    "# over 60% of errors is reduced so the linear regression is the better option\n",
    "adj_r2 = round(regression_linear_model.rsquared_adj,2)\n",
    "adj_r2"
   ]
  },
  {
   "cell_type": "code",
   "execution_count": null,
   "id": "99afa7c6",
   "metadata": {
    "scrolled": true
   },
   "outputs": [],
   "source": [
    "# Retrieving coefficients to output full equation on stremlit\n",
    "#manipulate data frame\n",
    "params = regression_linear_model.params\n",
    "params"
   ]
  },
  {
   "cell_type": "code",
   "execution_count": null,
   "id": "6df2754a",
   "metadata": {},
   "outputs": [],
   "source": [
    "# Getting the Index of chosen Job in the series\n",
    "index = 0\n",
    "for i in range(len(params)):\n",
    "    if job_chosen  == params.index[i]:\n",
    "        index = i\n",
    "print(params[index])\n",
    "        "
   ]
  },
  {
   "cell_type": "code",
   "execution_count": null,
   "id": "d76603d8",
   "metadata": {},
   "outputs": [],
   "source": [
    "# concatenates coef with the chosen job coef\n",
    "current_equation = 'Estimated Salary = {:.2f} + {:.2f} * The Experience Level + {:.2f} * The Company Size + {:.2f} * ({}=1)'.format(params[0], params[1], params[2], params[3], job_chosen)\n",
    "current_equation"
   ]
  },
  {
   "cell_type": "markdown",
   "id": "8810fe41",
   "metadata": {},
   "source": [
    "# Residual Plot"
   ]
  },
  {
   "cell_type": "markdown",
   "id": "758da449",
   "metadata": {},
   "source": [
    "checking for linearity and variance values are much spread out to the right so linear regression might not be the best line \n",
    "for this dataset\n",
    "\n"
   ]
  },
  {
   "cell_type": "code",
   "execution_count": null,
   "id": "9227fe5b",
   "metadata": {},
   "outputs": [],
   "source": [
    "# residuals vs fitted plot\n",
    "predicted_values = regression_linear_model.predict()\n",
    "residual_values = df_dummies['salary_in_usd'] - predicted_values"
   ]
  },
  {
   "cell_type": "code",
   "execution_count": null,
   "id": "6cdeaacf",
   "metadata": {},
   "outputs": [],
   "source": [
    "# creating dataframe to use with seaborn \n",
    "residual_plot = pd.DataFrame({'predicted':predicted_values, 'residuals':residual_values})"
   ]
  },
  {
   "cell_type": "code",
   "execution_count": null,
   "id": "d7ea7ea4",
   "metadata": {
    "scrolled": false
   },
   "outputs": [],
   "source": [
    "#sampling data then plotting\n",
    "df_sample = residual_plot.sample(300)\n",
    "plt.scatter(df_sample['predicted'], df_sample['residuals'],c='blue',marker='o')\n",
    "plt.xlabel(\"Predicted Values\") \n",
    "plt.ylabel(\"Residuals\")\n",
    "plt.axhline(0,c='red',ls='--')\n",
    "plt.show()"
   ]
  },
  {
   "cell_type": "code",
   "execution_count": null,
   "id": "ec5c45cf",
   "metadata": {},
   "outputs": [],
   "source": [
    "# computing the Residual Standard Error of the equation\n",
    "predicted_values \n",
    "actual_values = df_dummies['salary_in_usd']\n",
    "sse= np.sum((actual_values-predicted_values)**2)\n",
    "rse = np.sqrt (sse/ (len(df_dummies['salary_in_usd'])-1-1))\n",
    "rse = int(rse)\n",
    "rse"
   ]
  },
  {
   "cell_type": "code",
   "execution_count": null,
   "id": "7498d480",
   "metadata": {},
   "outputs": [],
   "source": [
    "# coefficient of variation is 23% which is the standard deviation to the mean. The greater the coef variation the greater \n",
    "# the greater the level of dispersion around the mean. For this kind of problem having the level of dispersion between \n",
    "# 5-10% would produce better results with the equation\n",
    "coe_variation = rse/np.mean(actual_values) * 100\n",
    "coe_variation"
   ]
  },
  {
   "cell_type": "markdown",
   "id": "8a96084b",
   "metadata": {},
   "source": [
    "# Root Mean Error Rate"
   ]
  },
  {
   "cell_type": "code",
   "execution_count": null,
   "id": "53cce025",
   "metadata": {},
   "outputs": [],
   "source": [
    "np.round ( r2_score(actual_values, predicted_values), 2)"
   ]
  },
  {
   "cell_type": "code",
   "execution_count": null,
   "id": "bc82d879",
   "metadata": {},
   "outputs": [],
   "source": [
    "# How close the regression line is to the real values of Y rmse\n",
    "rmse_reg = math.sqrt(mean_squared_error(actual_values, predicted_values))\n",
    "rmse_reg"
   ]
  },
  {
   "cell_type": "markdown",
   "id": "4ba8d0a1",
   "metadata": {},
   "source": [
    "Difference between RSE and MSE\n",
    "\n",
    "RSE average deviation between the actual outcome and the true regression line(The Mean).\n",
    "\n",
    "MSE how close the regression line is to the actual values of Y using eucleadian distance.\n"
   ]
  },
  {
   "cell_type": "markdown",
   "id": "f4451d07",
   "metadata": {},
   "source": [
    "# Gathering dummy variables for regression trees"
   ]
  },
  {
   "cell_type": "code",
   "execution_count": 135,
   "id": "2fb21da4",
   "metadata": {},
   "outputs": [],
   "source": [
    "df_dummies_trees=pd.get_dummies(merged_df,columns=['job_title'], drop_first = False)"
   ]
  },
  {
   "cell_type": "code",
   "execution_count": null,
   "id": "6ebcae2a",
   "metadata": {},
   "outputs": [],
   "source": [
    "df_dummies_trees=df_dummies.copy()"
   ]
  },
  {
   "cell_type": "code",
   "execution_count": null,
   "id": "13821f62",
   "metadata": {},
   "outputs": [],
   "source": [
    "job_chosen = 'Data_Scientist'"
   ]
  },
  {
   "cell_type": "code",
   "execution_count": null,
   "id": "c2869145",
   "metadata": {},
   "outputs": [],
   "source": [
    "# Dividing salary by 1000\n",
    "df_dummies_trees['salary_in_usd'] = df_dummies_trees['salary_in_usd'] "
   ]
  },
  {
   "cell_type": "code",
   "execution_count": null,
   "id": "bcf70e74",
   "metadata": {
    "scrolled": false
   },
   "outputs": [],
   "source": [
    "df_dummies_trees.head()"
   ]
  },
  {
   "cell_type": "code",
   "execution_count": null,
   "id": "daf09528",
   "metadata": {},
   "outputs": [],
   "source": [
    "for i in df.columns:\n",
    "    print(i)\n"
   ]
  },
  {
   "cell_type": "code",
   "execution_count": 136,
   "id": "88626c1d",
   "metadata": {},
   "outputs": [],
   "source": [
    "# Dividing test and training data\n",
    "X_train, X_test, y_train, y_test= train_test_split (df_dummies[['experience_level', 'company_size', job_chosen]],df_dummies['salary_in_usd'], test_size=0.2, random_state=1)"
   ]
  },
  {
   "cell_type": "markdown",
   "id": "f772610c",
   "metadata": {},
   "source": [
    "# Decision Tree"
   ]
  },
  {
   "cell_type": "markdown",
   "id": "10b106a9",
   "metadata": {},
   "source": [
    "Printing a long tree and getting best parameters"
   ]
  },
  {
   "cell_type": "code",
   "execution_count": null,
   "id": "6184be57",
   "metadata": {},
   "outputs": [],
   "source": [
    "# Grid to use cross validation to search for best parameters\n",
    "hyperparam_grid = {\n",
    "    'max_depth': np.arange(2,11), # testing depth from 2 to 10\n",
    "    'min_samples_split':[0.1, 0.15, 0.2],\n",
    "    'min_samples_leaf':[0.05, 0.1, 0.15], \n",
    "    'min_impurity_decrease': [0, 0.0005, 0.001, 0.005, 0.01, 0.05]\n",
    "}\n"
   ]
  },
  {
   "cell_type": "code",
   "execution_count": null,
   "id": "73f3cb39",
   "metadata": {},
   "outputs": [],
   "source": [
    "#Getting cv object\n",
    "gridSearch = GridSearchCV(DecisionTreeRegressor(), hyperparam_grid, cv=5, scoring='neg_mean_squared_error')"
   ]
  },
  {
   "cell_type": "code",
   "execution_count": null,
   "id": "f05859a6",
   "metadata": {},
   "outputs": [],
   "source": [
    "gridSearch.fit(X_train, y_train)"
   ]
  },
  {
   "cell_type": "code",
   "execution_count": null,
   "id": "d9979043",
   "metadata": {
    "scrolled": true
   },
   "outputs": [],
   "source": [
    "# best parameters with lowest MSE\n",
    "print('Initial parameters are: ', gridSearch.best_params_)"
   ]
  },
  {
   "cell_type": "code",
   "execution_count": null,
   "id": "1612f695",
   "metadata": {},
   "outputs": [],
   "source": [
    "type(gridSearch.best_params_['max_depth'])"
   ]
  },
  {
   "cell_type": "code",
   "execution_count": null,
   "id": "b9ce416f",
   "metadata": {},
   "outputs": [],
   "source": [
    "decision_tree = DecisionTreeRegressor(max_depth= 8, min_samples_split= 0.1, min_samples_leaf= 0.05, min_impurity_decrease= 0.01, random_state=1)"
   ]
  },
  {
   "cell_type": "code",
   "execution_count": null,
   "id": "f6e0f809",
   "metadata": {
    "scrolled": true
   },
   "outputs": [],
   "source": [
    "# Fitting final tree\n",
    "decision_tree.fit(X_train, y_train)"
   ]
  },
  {
   "cell_type": "code",
   "execution_count": null,
   "id": "cec14b0e",
   "metadata": {},
   "outputs": [],
   "source": [
    "# Plotting Tree\n",
    "plt.figure(figsize=(25,20))   \n",
    "tree.plot_tree(decision_tree,filled=True, rounded= True, feature_names=X_train.columns, fontsize=12)\n",
    "plt.show()"
   ]
  },
  {
   "cell_type": "code",
   "execution_count": null,
   "id": "f411a140",
   "metadata": {},
   "outputs": [],
   "source": [
    "# predicted values\n",
    "experience = 0\n",
    "company = 1\n",
    "job_chosen\n",
    "data_to_predict = pd.DataFrame({'experience_level': [experience], 'company_size': [company], job_chosen: [1]})"
   ]
  },
  {
   "cell_type": "code",
   "execution_count": null,
   "id": "d19f5b9e",
   "metadata": {},
   "outputs": [],
   "source": [
    "# prediction example\n",
    "value_decision_tree = decision_tree.predict(data_to_predict) * 1000\n",
    "value_decision_tree = int(value_decision_tree)\n",
    "value_decision_tree"
   ]
  },
  {
   "cell_type": "markdown",
   "id": "28f603ee",
   "metadata": {},
   "source": [
    "# Tree Details"
   ]
  },
  {
   "cell_type": "code",
   "execution_count": null,
   "id": "57263da2",
   "metadata": {},
   "outputs": [],
   "source": [
    "# Getting MSE from Tree and displaying rmse\n",
    "tree_mse = mean_squared_error( y_test, decision_tree.predict (X_test))\n",
    "rmse_tree = math.sqrt(tree_mse)\n",
    "rmse_tree"
   ]
  },
  {
   "cell_type": "code",
   "execution_count": null,
   "id": "e2e9b4ab",
   "metadata": {},
   "outputs": [],
   "source": [
    "# getting Final Parameters\n",
    "tree_final_params = decision_tree.get_params()"
   ]
  },
  {
   "cell_type": "markdown",
   "id": "06e4ff1a",
   "metadata": {},
   "source": [
    "* Max Depth: Mximum depth of the tree, how big we want the tree to grow\n",
    "* min impurity decrease: minimun decrease in error we are willing to accept\n",
    "* min sample split: Minimum number of samples to split a node\n",
    "* Minimum sample leaf: minimum number of samples to be a leaf node\n"
   ]
  },
  {
   "cell_type": "code",
   "execution_count": null,
   "id": "93b9523f",
   "metadata": {},
   "outputs": [],
   "source": [
    "# Making a series of the values\n",
    "series_decision_tree = pd.Series(tree_final_params)\n",
    "series_decision_tree"
   ]
  },
  {
   "cell_type": "markdown",
   "id": "83755866",
   "metadata": {},
   "source": [
    "# Bagging Non Random Forest"
   ]
  },
  {
   "cell_type": "markdown",
   "id": "330e31ef",
   "metadata": {},
   "source": [
    "* Creates several subsets of data chosen randomly with replacement to then train each decision tree. Then it will combine several decision trees to produce better preidction models as opposed to choosing a single very large decision tree which \n",
    "might suffer from high bias. "
   ]
  },
  {
   "cell_type": "code",
   "execution_count": 137,
   "id": "5ba73ba2",
   "metadata": {},
   "outputs": [],
   "source": [
    "# number of trees used\n",
    "number_of_trees=np.arange(50,501,10)"
   ]
  },
  {
   "cell_type": "code",
   "execution_count": 139,
   "id": "9699cf60",
   "metadata": {},
   "outputs": [],
   "source": [
    "# will return the best collection of trees with the lowest mse\n",
    "mse_bagging_oob_scores=[]\n",
    "for i in number_of_trees:\n",
    "    bag_loop= RandomForestRegressor(n_estimators = i, oob_score= True, max_features=None, random_state=1)\n",
    "    bag_loop.fit(X_train, y_train)\n",
    "    mse_bagging_oob_scores.append(mean_squared_error(y_train, bag_loop.oob_prediction_))"
   ]
  },
  {
   "cell_type": "code",
   "execution_count": 140,
   "id": "cc26593b",
   "metadata": {},
   "outputs": [],
   "source": [
    "# index with lowest oob mse\n",
    "indexmin_bagging= mse_bagging_oob_scores.index(min(mse_bagging_oob_scores))"
   ]
  },
  {
   "cell_type": "code",
   "execution_count": 141,
   "id": "3776371f",
   "metadata": {},
   "outputs": [],
   "source": [
    "# numbers of trees that resulted in lowest mse\n",
    "trees = number_of_trees[indexmin_bagging]"
   ]
  },
  {
   "cell_type": "code",
   "execution_count": 142,
   "id": "dbd7874f",
   "metadata": {},
   "outputs": [],
   "source": [
    "# Building model with selected trees\n",
    "bagging_forest= RandomForestRegressor(n_estimators= trees, max_features=None, random_state=1)"
   ]
  },
  {
   "cell_type": "code",
   "execution_count": 144,
   "id": "d916a952",
   "metadata": {},
   "outputs": [],
   "source": [
    "fit_bag_trees = bagging_forest.fit(X_train, y_train)"
   ]
  },
  {
   "cell_type": "code",
   "execution_count": 146,
   "id": "b04bb0dd",
   "metadata": {},
   "outputs": [
    {
     "data": {
      "text/plain": [
       "{'bootstrap': True,\n",
       " 'ccp_alpha': 0.0,\n",
       " 'criterion': 'squared_error',\n",
       " 'max_depth': None,\n",
       " 'max_features': None,\n",
       " 'max_leaf_nodes': None,\n",
       " 'max_samples': None,\n",
       " 'min_impurity_decrease': 0.0,\n",
       " 'min_samples_leaf': 1,\n",
       " 'min_samples_split': 2,\n",
       " 'min_weight_fraction_leaf': 0.0,\n",
       " 'n_estimators': 460,\n",
       " 'n_jobs': None,\n",
       " 'oob_score': False,\n",
       " 'random_state': 1,\n",
       " 'verbose': 0,\n",
       " 'warm_start': False}"
      ]
     },
     "execution_count": 146,
     "metadata": {},
     "output_type": "execute_result"
    }
   ],
   "source": [
    "params = fit_bag_trees.get_params()\n",
    "params"
   ]
  },
  {
   "cell_type": "markdown",
   "id": "d07e83fd",
   "metadata": {},
   "source": [
    "# Tree Details"
   ]
  },
  {
   "cell_type": "code",
   "execution_count": null,
   "id": "7d0c6742",
   "metadata": {},
   "outputs": [],
   "source": [
    "# mse\n",
    "mse_bagging = mean_squared_error( y_test, bagging_forest.predict (X_test))\n",
    "mse_bagging"
   ]
  },
  {
   "cell_type": "code",
   "execution_count": null,
   "id": "16518dd4",
   "metadata": {},
   "outputs": [],
   "source": [
    "# rmse\n",
    "rmse_bagging = math.sqrt(mse_bagging)\n",
    "rmse_bagging"
   ]
  },
  {
   "cell_type": "code",
   "execution_count": null,
   "id": "311d308d",
   "metadata": {},
   "outputs": [],
   "source": [
    "# Number of trees used \n",
    "trees"
   ]
  },
  {
   "cell_type": "code",
   "execution_count": null,
   "id": "c3a68e55",
   "metadata": {
    "scrolled": true
   },
   "outputs": [],
   "source": [
    "# General Info\n",
    "fit_bag_trees"
   ]
  },
  {
   "cell_type": "code",
   "execution_count": null,
   "id": "4116bb17",
   "metadata": {},
   "outputs": [],
   "source": [
    "# predicted values\n",
    "experience = 0\n",
    "company = 1\n",
    "job_chosen\n",
    "data_to_predict = pd.DataFrame({'experience_level': [experience], 'company_size': [company], job_chosen: [1]})"
   ]
  },
  {
   "cell_type": "code",
   "execution_count": null,
   "id": "c9a5b2a2",
   "metadata": {},
   "outputs": [],
   "source": [
    "# prediction example\n",
    "value_bg_tree = bagging_forest.predict(data_to_predict) * 1000\n",
    "value_bg_tree = int(value_bg_tree)\n",
    "value_bg_tree"
   ]
  },
  {
   "cell_type": "markdown",
   "id": "277cc074",
   "metadata": {},
   "source": [
    "# Random Forest"
   ]
  },
  {
   "cell_type": "code",
   "execution_count": 373,
   "id": "7cafc8f4",
   "metadata": {},
   "outputs": [],
   "source": [
    "# Getting number of features range\n",
    "number_of_features=np.arange(1,4)"
   ]
  },
  {
   "cell_type": "code",
   "execution_count": 374,
   "id": "d9a33aa1",
   "metadata": {},
   "outputs": [],
   "source": [
    "# Setting up cv grid\n",
    "param_grid_rf = {  'n_estimators': np.arange(50,501,20), \n",
    "     'max_features': number_of_features                        \n",
    "}"
   ]
  },
  {
   "cell_type": "code",
   "execution_count": 375,
   "id": "706ee1b7",
   "metadata": {},
   "outputs": [],
   "source": [
    "gridSearch_rf = GridSearchCV(RandomForestRegressor(), param_grid_rf, cv=5,scoring='neg_mean_squared_error')"
   ]
  },
  {
   "cell_type": "code",
   "execution_count": null,
   "id": "cfb336a7",
   "metadata": {},
   "outputs": [],
   "source": [
    "gridSearch_rf.fit(X_train, y_train)"
   ]
  },
  {
   "cell_type": "code",
   "execution_count": null,
   "id": "daef6506",
   "metadata": {},
   "outputs": [],
   "source": [
    "# Features used\n",
    "features = gridSearch_rf.best_params_['max_features']"
   ]
  },
  {
   "cell_type": "code",
   "execution_count": null,
   "id": "4260cef8",
   "metadata": {},
   "outputs": [],
   "source": [
    "trees_used = gridSearch_rf.best_params_['n_estimators']"
   ]
  },
  {
   "cell_type": "code",
   "execution_count": null,
   "id": "c5ffed72",
   "metadata": {},
   "outputs": [],
   "source": [
    "# constructing tree using best parameters\n",
    "rf_model = RandomForestRegressor(n_estimators= trees_used , max_features=features, random_state=1)"
   ]
  },
  {
   "cell_type": "code",
   "execution_count": null,
   "id": "cfff3117",
   "metadata": {
    "scrolled": true
   },
   "outputs": [],
   "source": [
    "rf_output = rf_model.fit(X_train, y_train)"
   ]
  },
  {
   "cell_type": "markdown",
   "id": "e77476f4",
   "metadata": {},
   "source": [
    "# Tree Details"
   ]
  },
  {
   "cell_type": "code",
   "execution_count": null,
   "id": "a7bb1754",
   "metadata": {},
   "outputs": [],
   "source": [
    "# mse\n",
    "mse_rf = mean_squared_error( y_test, rf_model.predict (X_test))\n",
    "mse_rf"
   ]
  },
  {
   "cell_type": "code",
   "execution_count": null,
   "id": "bee13e1e",
   "metadata": {},
   "outputs": [],
   "source": [
    "# rmse Lowest rmse\n",
    "rmse_rf = math.sqrt(mse_rf)\n",
    "rmse_rf"
   ]
  },
  {
   "cell_type": "code",
   "execution_count": null,
   "id": "366f82b0",
   "metadata": {},
   "outputs": [],
   "source": [
    "# General Info\n",
    "rf_output"
   ]
  },
  {
   "cell_type": "code",
   "execution_count": null,
   "id": "43df1744",
   "metadata": {},
   "outputs": [],
   "source": [
    "# predicted values\n",
    "experience = 0\n",
    "company = 1\n",
    "job_chosen\n",
    "data_to_predict = pd.DataFrame({'experience_level': [experience], 'company_size': [company], job_chosen: [1]})"
   ]
  },
  {
   "cell_type": "code",
   "execution_count": null,
   "id": "1aec9f48",
   "metadata": {},
   "outputs": [],
   "source": [
    "# prediction example\n",
    "value_rf_tree = rf_model.predict(data_to_predict) * 1000\n",
    "value_rf_tree = int(value_rf_tree)\n",
    "value_rf_tree"
   ]
  }
 ],
 "metadata": {
  "kernelspec": {
   "display_name": "Python 3 (ipykernel)",
   "language": "python",
   "name": "python3"
  },
  "language_info": {
   "codemirror_mode": {
    "name": "ipython",
    "version": 3
   },
   "file_extension": ".py",
   "mimetype": "text/x-python",
   "name": "python",
   "nbconvert_exporter": "python",
   "pygments_lexer": "ipython3",
   "version": "3.10.9"
  }
 },
 "nbformat": 4,
 "nbformat_minor": 5
}
